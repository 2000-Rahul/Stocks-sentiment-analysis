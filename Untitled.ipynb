{
 "cells": [
  {
   "cell_type": "code",
   "execution_count": 1,
   "id": "5acdad3e",
   "metadata": {},
   "outputs": [],
   "source": [
    "#pip install transformers\n"
   ]
  },
  {
   "cell_type": "markdown",
   "id": "a144d8f9",
   "metadata": {},
   "source": [
    "A transformer is a deep learning model that adopts the mechanism of self-attention, differentially weighting the significance of each part of the input data. It is used primarily in the fields of natural language processing (NLP) and computer vision (CV)."
   ]
  },
  {
   "cell_type": "code",
   "execution_count": 1,
   "id": "49e1eb09",
   "metadata": {},
   "outputs": [],
   "source": [
    "import requests"
   ]
  },
  {
   "cell_type": "markdown",
   "id": "20be6116",
   "metadata": {},
   "source": [
    " Requests is a Python library used to send an HTTP request to a website and store the response object within a variable"
   ]
  },
  {
   "cell_type": "code",
   "execution_count": 3,
   "id": "30b48471",
   "metadata": {},
   "outputs": [],
   "source": [
    "from bs4 import BeautifulSoup "
   ]
  },
  {
   "cell_type": "markdown",
   "id": "1ea581a1",
   "metadata": {},
   "source": [
    "Beautiful Soup is a great tool for extracting data from web pages but it works with the source code of the page."
   ]
  },
  {
   "cell_type": "code",
   "execution_count": 4,
   "id": "eedf43e7",
   "metadata": {},
   "outputs": [],
   "source": [
    "from transformers import PegasusTokenizer,PegasusForConditionalGeneration"
   ]
  },
  {
   "cell_type": "markdown",
   "id": "ddf16117",
   "metadata": {},
   "source": [
    "#Transformer is an architecture for transforming one sequence into another one with the help of two parts (Encoder and Decoder)\n",
    "#The PegasusTokenizer class will convert our sentences into tokens. This is a numbered representation of our sentences. \n",
    "pegasus modole use for reading a document and producing a summary."
   ]
  },
  {
   "cell_type": "code",
   "execution_count": 5,
   "id": "01401e48",
   "metadata": {},
   "outputs": [],
   "source": [
    "#pip install sentencepiece \n",
    "##sentence piece used for data extraction and in making of tokens"
   ]
  },
  {
   "cell_type": "code",
   "execution_count": 6,
   "id": "8959865d",
   "metadata": {},
   "outputs": [],
   "source": [
    "model_name = \"human-centered-summarization/financial-summarization-pegasus\"\n",
    "tokenizer = PegasusTokenizer.from_pretrained(model_name)\n",
    "model = PegasusForConditionalGeneration.from_pretrained(model_name)"
   ]
  },
  {
   "cell_type": "code",
   "execution_count": 7,
   "id": "d0efdc6e",
   "metadata": {},
   "outputs": [],
   "source": [
    "url = \"https://www.investopedia.com/terms/f/finance.asp\"\n",
    "r = requests.get(url)\n",
    "soup = BeautifulSoup(r.text, 'html.parser') \n",
    "paragraphs = soup.find_all('p')"
   ]
  },
  {
   "cell_type": "code",
   "execution_count": 8,
   "id": "cfc6e187",
   "metadata": {},
   "outputs": [
    {
     "data": {
      "text/plain": [
       "\"Adam Hayes, Ph.D., CFA, is a financial writer with 15+ years Wall Street experience as a derivatives trader. Besides his extensive derivative trading expertise, Adam is an expert in economics and behavioral finance. Adam received his master's in economics from The New School for Social Research and his Ph.D. from the University of Wisconsin-Madison in sociology. He is a CFA charterholder as well as holding FINRA Series 7, 55 & 63 licenses. He currently researches and teaches economic sociology and the social studies of finance at the Hebrew University in Jerusalem.\""
      ]
     },
     "execution_count": 8,
     "metadata": {},
     "output_type": "execute_result"
    }
   ],
   "source": [
    "paragraphs[0].text"
   ]
  },
  {
   "cell_type": "code",
   "execution_count": 9,
   "id": "f86810f8",
   "metadata": {},
   "outputs": [],
   "source": [
    "text = [paragraph.text for paragraph in paragraphs]\n",
    "words = ' '.join(text).split(' ')[:200]\n",
    "ARTICLE = ' '.join(words)"
   ]
  },
  {
   "cell_type": "code",
   "execution_count": 10,
   "id": "b350a4b1",
   "metadata": {},
   "outputs": [
    {
     "data": {
      "text/plain": [
       "'Adam Hayes, Ph.D., CFA, is a financial writer with 15+ years Wall Street experience as a derivatives trader. Besides his extensive derivative trading expertise, Adam is an expert in economics and behavioral finance. Adam received his master\\'s in economics from The New School for Social Research and his Ph.D. from the University of Wisconsin-Madison in sociology. He is a CFA charterholder as well as holding FINRA Series 7, 55 & 63 licenses. He currently researches and teaches economic sociology and the social studies of finance at the Hebrew University in Jerusalem. Investopedia / Mira Norian \\nFinance is a term for matters regarding the management, creation, and study of money and investments. It involves the use of credit and debt, securities, and investment to finance current projects using future income flows. Because of this temporal aspect, finance is closely linked to the time value of money, interest rates, and other related topics.\\n \\nFinance can be broadly divided into three categories:\\n \\nThere are many other specific categories, such as behavioral finance, which seeks to identify the cognitive (e.g., emotional, social, and psychological) reasons behind financial decisions.\\n \\n\"Finance\" is typically broken down into three broad categories: Public finance includes tax systems, government expenditures,'"
      ]
     },
     "execution_count": 10,
     "metadata": {},
     "output_type": "execute_result"
    }
   ],
   "source": [
    "ARTICLE"
   ]
  },
  {
   "cell_type": "code",
   "execution_count": 11,
   "id": "b79a6fd0",
   "metadata": {},
   "outputs": [],
   "source": [
    "input_ids = tokenizer.encode(ARTICLE, return_tensors='pt') ##pytorch return array #tokenzier used to genarte unique token of each nummber\n",
    "output = model.generate(input_ids, max_length=100, num_beams=5, early_stopping=True) ##num_beams return only top 5 choices, early stopping used to avoid overfiting\n",
    "summary = tokenizer.decode(output[0], skip_special_tokens=True)  ##special tokens are not derived from our input"
   ]
  },
  {
   "cell_type": "code",
   "execution_count": 12,
   "id": "8915c73f",
   "metadata": {},
   "outputs": [
    {
     "data": {
      "text/plain": [
       "tensor([[ 5262, 18157,   108,  5727,   107,   470,   107,   108, 31336,   108,\n",
       "           117,   114,   748,  2678,   122, 67066,   231,  2948,  1411,   306,\n",
       "           130,   114, 22720, 14410,   107,  6530,   169,  2248, 22869,  2430,\n",
       "          1945,   108,  5262,   117,   142,  1766,   115,  8965,   111,  9705,\n",
       "          3324,   107,  5262,   915,   169,  2080,   131,   116,   115,  8965,\n",
       "           135,   139,   351,   760,   118,  2480,  1810,   111,   169,  5727,\n",
       "           107,   470,   107,   135,   109,   502,   113,  5581,   121, 36454,\n",
       "           115, 24945,   107,   285,   117,   114, 31336,  7164, 20693,   130,\n",
       "           210,   130,  2605, 60589,  2879,  6691,  5278,   259,  9860, 10088,\n",
       "           107,   285,   767, 28331,   111,  6472,  1500, 24945,   111,   109,\n",
       "           525,  1683,   113,  3324,   134,   109, 13048,   502,   115,  9496,\n",
       "           107, 19356, 79909,   943, 23320,   566, 19621,  5227,   117,   114,\n",
       "          1286,   118,  2887,  1409,   109,   603,   108,  2615,   108,   111,\n",
       "           692,   113,   408,   111,  4313,   107,   168,  3576,   109,   207,\n",
       "           113,   910,   111,  2271,   108,  9242,   108,   111,  1237,   112,\n",
       "          3324,   582,   844,   303,   533,  1643,  7620,   107,  2110,   113,\n",
       "           136, 20364,  3123,   108,  3324,   117,  2851,  3335,   112,   109,\n",
       "           166,   564,   113,   408,   108,   820,  1372,   108,   111,   176,\n",
       "           985,  2591,   107,  5227,   137,   129, 14900,  5215,   190,   339,\n",
       "          3510,   151,   353,   127,   223,   176,   739,  3510,   108,   253,\n",
       "           130,  9705,  3324,   108,   162,  7040,   112,  1956,   109,  7842,\n",
       "           143,   326,   107,   838,   107,   108,  2864,   108,   525,   108,\n",
       "           111,  6804,   158,  1523,   893,   748,  1993,   107,   198, 38724,\n",
       "           194,   117,  2222,  2738,   308,   190,   339,  3426,  3510,   151,\n",
       "          2397,  3324,   709,  1035,   747,   108,   657, 19213,   108,     1]])"
      ]
     },
     "execution_count": 12,
     "metadata": {},
     "output_type": "execute_result"
    }
   ],
   "source": [
    "input_ids #The input ids are often the only required parameters to be passed to the model as input"
   ]
  },
  {
   "cell_type": "code",
   "execution_count": 13,
   "id": "8373fb1b",
   "metadata": {},
   "outputs": [
    {
     "data": {
      "text/plain": [
       "tensor([[    0,  5262, 18157,   117,   114,   748,  2678,   122, 67066,   231,\n",
       "          2948,  1411,   306,   107,     1]])"
      ]
     },
     "execution_count": 13,
     "metadata": {},
     "output_type": "execute_result"
    }
   ],
   "source": [
    "output"
   ]
  },
  {
   "cell_type": "code",
   "execution_count": 14,
   "id": "8aa2dfa3",
   "metadata": {},
   "outputs": [
    {
     "data": {
      "text/plain": [
       "'Adam Hayes is a financial writer with 15+ years Wall Street experience.'"
      ]
     },
     "execution_count": 14,
     "metadata": {},
     "output_type": "execute_result"
    }
   ],
   "source": [
    "summary"
   ]
  },
  {
   "cell_type": "code",
   "execution_count": 15,
   "id": "aff17c43",
   "metadata": {},
   "outputs": [],
   "source": [
    "monitered_tickers = ['gme','tsla','btc']"
   ]
  },
  {
   "cell_type": "code",
   "execution_count": 16,
   "id": "bf020e9c",
   "metadata": {},
   "outputs": [],
   "source": [
    "def search_for_stock_news_urls(ticker):\n",
    "    search_url = \"https://www.google.com/search?q=yahoo+finance+{}&tbm=nws\".format(ticker)\n",
    "    r = requests.get(search_url)\n",
    "    soup = BeautifulSoup(r.text, 'html.parser')\n",
    "    atags = soup.find_all('a')\n",
    "    hrefs = [link['href'] for link in atags]\n",
    "    return hrefs"
   ]
  },
  {
   "cell_type": "code",
   "execution_count": 17,
   "id": "5ea3bea0",
   "metadata": {},
   "outputs": [],
   "source": [
    "search_url = \"https://www.google.com/search?q=yahoo+finance+{}&tbm=nws\".format('gme')"
   ]
  },
  {
   "cell_type": "code",
   "execution_count": 18,
   "id": "588e60bb",
   "metadata": {},
   "outputs": [
    {
     "data": {
      "text/plain": [
       "'https://www.google.com/search?q=yahoo+finance+gme&tbm=nws'"
      ]
     },
     "execution_count": 18,
     "metadata": {},
     "output_type": "execute_result"
    }
   ],
   "source": [
    "search_url"
   ]
  },
  {
   "cell_type": "code",
   "execution_count": 19,
   "id": "904439b0",
   "metadata": {},
   "outputs": [],
   "source": [
    "monitored_tickers = ['GME','TSLA','BTC']"
   ]
  },
  {
   "cell_type": "code",
   "execution_count": 20,
   "id": "bbad83fc",
   "metadata": {},
   "outputs": [
    {
     "data": {
      "text/plain": [
       "{'GME': ['/?sa=X&ved=0ahUKEwi9yseZl_L9AhVBQ7gEHUqMAb8QOwgC',\n",
       "  '/search?q=yahoo+finance+GME&tbm=nws&ie=UTF-8&gbv=1&sei=TlccZL3rH8GG4dUPypiG-As',\n",
       "  '/search?q=yahoo+finance+GME&ie=UTF-8&source=lnms&sa=X&ved=0ahUKEwi9yseZl_L9AhVBQ7gEHUqMAb8Q_AUIBSgA',\n",
       "  '/search?q=yahoo+finance+GME&ie=UTF-8&tbm=vid&source=lnms&sa=X&ved=0ahUKEwi9yseZl_L9AhVBQ7gEHUqMAb8Q_AUIBygC',\n",
       "  '/search?q=yahoo+finance+GME&ie=UTF-8&tbm=isch&source=lnms&sa=X&ved=0ahUKEwi9yseZl_L9AhVBQ7gEHUqMAb8Q_AUICCgD',\n",
       "  'https://maps.google.com/maps?q=yahoo+finance+GME&um=1&ie=UTF-8&sa=X&ved=0ahUKEwi9yseZl_L9AhVBQ7gEHUqMAb8Q_AUICSgE',\n",
       "  '/search?q=yahoo+finance+GME&ie=UTF-8&tbm=shop&source=lnms&sa=X&ved=0ahUKEwi9yseZl_L9AhVBQ7gEHUqMAb8Q_AUICigF',\n",
       "  '/search?q=yahoo+finance+GME&ie=UTF-8&tbm=bks&source=lnms&sa=X&ved=0ahUKEwi9yseZl_L9AhVBQ7gEHUqMAb8Q_AUICygG',\n",
       "  '/advanced_search',\n",
       "  '/search?q=yahoo+finance+GME&ie=UTF-8&tbm=nws&source=lnt&tbs=qdr:h&sa=X&ved=0ahUKEwi9yseZl_L9AhVBQ7gEHUqMAb8QpwUIDQ',\n",
       "  '/search?q=yahoo+finance+GME&ie=UTF-8&tbm=nws&source=lnt&tbs=qdr:d&sa=X&ved=0ahUKEwi9yseZl_L9AhVBQ7gEHUqMAb8QpwUIDg',\n",
       "  '/search?q=yahoo+finance+GME&ie=UTF-8&tbm=nws&source=lnt&tbs=qdr:w&sa=X&ved=0ahUKEwi9yseZl_L9AhVBQ7gEHUqMAb8QpwUIDw',\n",
       "  '/search?q=yahoo+finance+GME&ie=UTF-8&tbm=nws&source=lnt&tbs=qdr:m&sa=X&ved=0ahUKEwi9yseZl_L9AhVBQ7gEHUqMAb8QpwUIEA',\n",
       "  '/search?q=yahoo+finance+GME&ie=UTF-8&tbm=nws&source=lnt&tbs=qdr:y&sa=X&ved=0ahUKEwi9yseZl_L9AhVBQ7gEHUqMAb8QpwUIEQ',\n",
       "  '/search?q=yahoo+finance+GME&ie=UTF-8&tbm=nws&source=lnt&tbs=ar:1&sa=X&ved=0ahUKEwi9yseZl_L9AhVBQ7gEHUqMAb8QpwUIEg',\n",
       "  '/search?q=yahoo+finance+GME&ie=UTF-8&tbm=nws&source=lnt&tbs=sbd:1&sa=X&ved=0ahUKEwi9yseZl_L9AhVBQ7gEHUqMAb8QpwUIFA',\n",
       "  '/url?q=https://finance.yahoo.com/news/stocks-moving-in-after-hours-gamestop-nike-214549776.html&sa=U&ved=2ahUKEwi9yseZl_L9AhVBQ7gEHUqMAb8QxfQBegQIBRAC&usg=AOvVaw1c36IDA8MV2awSK8Lt-rUx',\n",
       "  '/url?q=https://finance.yahoo.com/news/gamestop-reports-fourth-quarter-fiscal-200500425.html&sa=U&ved=2ahUKEwi9yseZl_L9AhVBQ7gEHUqMAb8QxfQBegQICRAC&usg=AOvVaw2--7JCQVDHCvXkcHPZatj5',\n",
       "  '/url?q=https://www.fastcompany.com/90869514/gamestop-gme-stock-price-going-up-profit-retail-why&sa=U&ved=2ahUKEwi9yseZl_L9AhVBQ7gEHUqMAb8QxfQBegQIBBAC&usg=AOvVaw3T88nuyEAuSudFwc_zJoO8',\n",
       "  '/url?q=https://www.shacknews.com/article/134690/gamestop-gme-stock-rockets-38-higher-on-earnings-results&sa=U&ved=2ahUKEwi9yseZl_L9AhVBQ7gEHUqMAb8QxfQBegQIAxAC&usg=AOvVaw3yKU6m5Tiu59kVhpdlF77W',\n",
       "  '/url?q=https://finance.yahoo.com/news/stock-market-today-dow-ends-161157972.html&sa=U&ved=2ahUKEwi9yseZl_L9AhVBQ7gEHUqMAb8QxfQBegQIARAC&usg=AOvVaw3-kRJelUR44w9UP9DaxcNZ',\n",
       "  '/url?q=https://www.msn.com/en-us/money/markets/stock-market-news-today-stock-futures-waver-as-all-eyes-on-fed-meeting/ar-AA18Wusj%3Focid%3Dweather-verthp-feeds&sa=U&ved=2ahUKEwi9yseZl_L9AhVBQ7gEHUqMAb8QxfQBegQIBhAC&usg=AOvVaw1NCqnNR3j004hXLD3ArdCM',\n",
       "  '/url?q=https://finance.yahoo.com/news/existing-home-sales-nike-earnings-162923739.html&sa=U&ved=2ahUKEwi9yseZl_L9AhVBQ7gEHUqMAb8QxfQBegQICBAC&usg=AOvVaw0VE0F6MIBFenIlnXuSDUIu',\n",
       "  '/url?q=https://finance.yahoo.com/news/eyes-fed-decision-key-stocks-152603931.html&sa=U&ved=2ahUKEwi9yseZl_L9AhVBQ7gEHUqMAb8QxfQBegQIAhAC&usg=AOvVaw1Ju0VlGKhJw0CLf-Gt4TNM',\n",
       "  '/url?q=https://finance.yahoo.com/news/changing-face-international-student-mobility-130801717.html&sa=U&ved=2ahUKEwi9yseZl_L9AhVBQ7gEHUqMAb8QxfQBegQIBxAC&usg=AOvVaw14CryaVdbgUWTWeApRGjgU',\n",
       "  '/url?q=https://finance.yahoo.com/news/first-republic-rebounds-record-low-092753176.html&sa=U&ved=2ahUKEwi9yseZl_L9AhVBQ7gEHUqMAb8QxfQBegQIABAC&usg=AOvVaw2l1hEtV8ODlLfLdMTljjhE',\n",
       "  '/search?q=yahoo+finance+GME&ie=UTF-8&tbm=nws&ei=TlccZL3rH8GG4dUPypiG-As&start=10&sa=N',\n",
       "  '/url?q=https://support.google.com/websearch%3Fp%3Dws_settings_location%26hl%3Den-IN&sa=U&ved=0ahUKEwi9yseZl_L9AhVBQ7gEHUqMAb8Qty4IUw&usg=AOvVaw04j-PvqegREGU4lXKsT6Ll',\n",
       "  '/url?q=https://accounts.google.com/ServiceLogin%3Fcontinue%3Dhttps://www.google.com/search%253Fq%253Dyahoo%252Bfinance%252BGME%2526tbm%253Dnws%26hl%3Den&sa=U&ved=0ahUKEwi9yseZl_L9AhVBQ7gEHUqMAb8Qxs8CCFQ&usg=AOvVaw3rAHUSOHMwjj_lmPgBqSck',\n",
       "  'https://www.google.com/preferences?hl=en-IN&fg=1&sa=X&ved=0ahUKEwi9yseZl_L9AhVBQ7gEHUqMAb8Q5fUCCFU',\n",
       "  'https://policies.google.com/privacy?hl=en-IN&fg=1',\n",
       "  'https://policies.google.com/terms?hl=en-IN&fg=1',\n",
       "  '/setprefs?hl=en&prev=https://www.google.com/search?q%3Dyahoo%2Bfinance%2BGME%26tbm%3Dnws%26pccc%3D1&sig=0_zLPaI91qNcuf8eYzTulOY01mKAM%3D&cs=2&sa=X&ved=0ahUKEwi9yseZl_L9AhVBQ7gEHUqMAb8QjcAJCFY'],\n",
       " 'TSLA': ['/?sa=X&ved=0ahUKEwiLsZCal_L9AhVnqZUCHQYMBEMQOwgC',\n",
       "  '/search?q=yahoo+finance+TSLA&tbm=nws&ie=UTF-8&gbv=1&sei=T1ccZMvNK-fS1sQPhpiQmAQ',\n",
       "  '/search?q=yahoo+finance+TSLA&ie=UTF-8&source=lnms&sa=X&ved=0ahUKEwiLsZCal_L9AhVnqZUCHQYMBEMQ_AUIBSgA',\n",
       "  '/search?q=yahoo+finance+TSLA&ie=UTF-8&tbm=vid&source=lnms&sa=X&ved=0ahUKEwiLsZCal_L9AhVnqZUCHQYMBEMQ_AUIBygC',\n",
       "  '/search?q=yahoo+finance+TSLA&ie=UTF-8&tbm=isch&source=lnms&sa=X&ved=0ahUKEwiLsZCal_L9AhVnqZUCHQYMBEMQ_AUICCgD',\n",
       "  'https://maps.google.com/maps?q=yahoo+finance+TSLA&um=1&ie=UTF-8&sa=X&ved=0ahUKEwiLsZCal_L9AhVnqZUCHQYMBEMQ_AUICSgE',\n",
       "  '/search?q=yahoo+finance+TSLA&ie=UTF-8&tbm=shop&source=lnms&sa=X&ved=0ahUKEwiLsZCal_L9AhVnqZUCHQYMBEMQ_AUICigF',\n",
       "  '/search?q=yahoo+finance+TSLA&ie=UTF-8&tbm=bks&source=lnms&sa=X&ved=0ahUKEwiLsZCal_L9AhVnqZUCHQYMBEMQ_AUICygG',\n",
       "  '/advanced_search',\n",
       "  '/search?q=yahoo+finance+TSLA&ie=UTF-8&tbm=nws&source=lnt&tbs=qdr:h&sa=X&ved=0ahUKEwiLsZCal_L9AhVnqZUCHQYMBEMQpwUIDQ',\n",
       "  '/search?q=yahoo+finance+TSLA&ie=UTF-8&tbm=nws&source=lnt&tbs=qdr:d&sa=X&ved=0ahUKEwiLsZCal_L9AhVnqZUCHQYMBEMQpwUIDg',\n",
       "  '/search?q=yahoo+finance+TSLA&ie=UTF-8&tbm=nws&source=lnt&tbs=qdr:w&sa=X&ved=0ahUKEwiLsZCal_L9AhVnqZUCHQYMBEMQpwUIDw',\n",
       "  '/search?q=yahoo+finance+TSLA&ie=UTF-8&tbm=nws&source=lnt&tbs=qdr:m&sa=X&ved=0ahUKEwiLsZCal_L9AhVnqZUCHQYMBEMQpwUIEA',\n",
       "  '/search?q=yahoo+finance+TSLA&ie=UTF-8&tbm=nws&source=lnt&tbs=qdr:y&sa=X&ved=0ahUKEwiLsZCal_L9AhVnqZUCHQYMBEMQpwUIEQ',\n",
       "  '/search?q=yahoo+finance+TSLA&ie=UTF-8&tbm=nws&source=lnt&tbs=ar:1&sa=X&ved=0ahUKEwiLsZCal_L9AhVnqZUCHQYMBEMQpwUIEg',\n",
       "  '/search?q=yahoo+finance+TSLA&ie=UTF-8&tbm=nws&source=lnt&tbs=sbd:1&sa=X&ved=0ahUKEwiLsZCal_L9AhVnqZUCHQYMBEMQpwUIFA',\n",
       "  '/url?q=https://finance.yahoo.com/news/bears-more-double-money-short-190651776.html&sa=U&ved=2ahUKEwiLsZCal_L9AhVnqZUCHQYMBEMQxfQBegQIBBAC&usg=AOvVaw0cvxHglWgBa2X5V2-30gRB',\n",
       "  '/url?q=https://finance.yahoo.com/news/investors-heavily-search-tesla-inc-130001381.html&sa=U&ved=2ahUKEwiLsZCal_L9AhVnqZUCHQYMBEMQxfQBegQICRAC&usg=AOvVaw3X0afXoDiqWuGAIczbzJvC',\n",
       "  '/url?q=https://finance.yahoo.com/news/forget-tesla-biggest-tech-opportunities-220000980.html&sa=U&ved=2ahUKEwiLsZCal_L9AhVnqZUCHQYMBEMQxfQBegQIBxAC&usg=AOvVaw0PWjp4tvBRTP6QDWcSGSDe',\n",
       "  '/url?q=https://finance.yahoo.com/news/analyst-downgrades-tesla-stock-after-50-pop-130116787.html&sa=U&ved=2ahUKEwiLsZCal_L9AhVnqZUCHQYMBEMQxfQBegQIBRAC&usg=AOvVaw3wtQfl5bv9ZQwcMIC6ysex',\n",
       "  '/url?q=https://finance.yahoo.com/news/tesla-investor-day-three-things-to-watch-170710130.html&sa=U&ved=2ahUKEwiLsZCal_L9AhVnqZUCHQYMBEMQxfQBegQIBhAC&usg=AOvVaw3zFt0wInTLh8gLJovvSQQO',\n",
       "  '/url?q=https://finance.yahoo.com/news/tesla-stock-down-sharply-as-investor-day-lacks-details-on-next-gen-car-164715469.html&sa=U&ved=2ahUKEwiLsZCal_L9AhVnqZUCHQYMBEMQxfQBegQIAxAC&usg=AOvVaw26fqLchBJAqSEKJuBEOQhM',\n",
       "  '/url?q=https://finance.yahoo.com/news/tesla-scores-blue-chip-status-after-moodys-debt-upgrade-164544334.html&sa=U&ved=2ahUKEwiLsZCal_L9AhVnqZUCHQYMBEMQxfQBegQIABAC&usg=AOvVaw2m9uloLC5YcIbGhDuz4-dL',\n",
       "  '/url?q=https://ca.finance.yahoo.com/news/tesla-debt-no-longer-junk-104743581.html&sa=U&ved=2ahUKEwiLsZCal_L9AhVnqZUCHQYMBEMQxfQBegQIARAC&usg=AOvVaw0m93Y0Ge8r1ulrdp3O9Uoi',\n",
       "  '/url?q=https://ca.finance.yahoo.com/news/tesla-wireless-charging-platform-hands-on-well-made-and-exorbitant-123056735.html&sa=U&ved=2ahUKEwiLsZCal_L9AhVnqZUCHQYMBEMQxfQBegQIAhAC&usg=AOvVaw1hr06q_QMu2JwsYliDJmOV',\n",
       "  '/url?q=https://finance.yahoo.com/news/tesla-still-the-category-king-in-evs-but-beware-shrinking-margins-analyst-200721964.html&sa=U&ved=2ahUKEwiLsZCal_L9AhVnqZUCHQYMBEMQxfQBegQICBAC&usg=AOvVaw0hdzP1Hqw4zoTtPUODCXCX',\n",
       "  '/search?q=yahoo+finance+TSLA&ie=UTF-8&tbm=nws&ei=T1ccZMvNK-fS1sQPhpiQmAQ&start=10&sa=N',\n",
       "  '/url?q=https://support.google.com/websearch%3Fp%3Dws_settings_location%26hl%3Den-IN&sa=U&ved=0ahUKEwiLsZCal_L9AhVnqZUCHQYMBEMQty4IUw&usg=AOvVaw0jN0FO7S7q8uDCh4fTe3fi',\n",
       "  '/url?q=https://accounts.google.com/ServiceLogin%3Fcontinue%3Dhttps://www.google.com/search%253Fq%253Dyahoo%252Bfinance%252BTSLA%2526tbm%253Dnws%26hl%3Den&sa=U&ved=0ahUKEwiLsZCal_L9AhVnqZUCHQYMBEMQxs8CCFQ&usg=AOvVaw3oKrhSiPyJUiTNnxQ2KqZ6',\n",
       "  'https://www.google.com/preferences?hl=en-IN&fg=1&sa=X&ved=0ahUKEwiLsZCal_L9AhVnqZUCHQYMBEMQ5fUCCFU',\n",
       "  'https://policies.google.com/privacy?hl=en-IN&fg=1',\n",
       "  'https://policies.google.com/terms?hl=en-IN&fg=1',\n",
       "  '/setprefs?hl=en&prev=https://www.google.com/search?q%3Dyahoo%2Bfinance%2BTSLA%26tbm%3Dnws%26pccc%3D1&sig=0_8SC7oyIz5b0xYh5JylcDPg3nfCY%3D&cs=2&sa=X&ved=0ahUKEwiLsZCal_L9AhVnqZUCHQYMBEMQjcAJCFY'],\n",
       " 'BTC': ['/?sa=X&ved=0ahUKEwjAx-Gal_L9AhUhqJUCHU1JDN4QOwgC',\n",
       "  '/search?q=yahoo+finance+BTC&tbm=nws&ie=UTF-8&gbv=1&sei=UVccZIDbAqHQ1sQPzZKx8A0',\n",
       "  '/search?q=yahoo+finance+BTC&ie=UTF-8&source=lnms&sa=X&ved=0ahUKEwjAx-Gal_L9AhUhqJUCHU1JDN4Q_AUIBSgA',\n",
       "  '/search?q=yahoo+finance+BTC&ie=UTF-8&tbm=isch&source=lnms&sa=X&ved=0ahUKEwjAx-Gal_L9AhUhqJUCHU1JDN4Q_AUIBygC',\n",
       "  '/search?q=yahoo+finance+BTC&ie=UTF-8&tbm=vid&source=lnms&sa=X&ved=0ahUKEwjAx-Gal_L9AhUhqJUCHU1JDN4Q_AUICCgD',\n",
       "  'https://maps.google.com/maps?q=yahoo+finance+BTC&um=1&ie=UTF-8&sa=X&ved=0ahUKEwjAx-Gal_L9AhUhqJUCHU1JDN4Q_AUICSgE',\n",
       "  '/search?q=yahoo+finance+BTC&ie=UTF-8&tbm=shop&source=lnms&sa=X&ved=0ahUKEwjAx-Gal_L9AhUhqJUCHU1JDN4Q_AUICigF',\n",
       "  '/search?q=yahoo+finance+BTC&ie=UTF-8&tbm=bks&source=lnms&sa=X&ved=0ahUKEwjAx-Gal_L9AhUhqJUCHU1JDN4Q_AUICygG',\n",
       "  '/advanced_search',\n",
       "  '/search?q=yahoo+finance+BTC&ie=UTF-8&tbm=nws&source=lnt&tbs=qdr:h&sa=X&ved=0ahUKEwjAx-Gal_L9AhUhqJUCHU1JDN4QpwUIDQ',\n",
       "  '/search?q=yahoo+finance+BTC&ie=UTF-8&tbm=nws&source=lnt&tbs=qdr:d&sa=X&ved=0ahUKEwjAx-Gal_L9AhUhqJUCHU1JDN4QpwUIDg',\n",
       "  '/search?q=yahoo+finance+BTC&ie=UTF-8&tbm=nws&source=lnt&tbs=qdr:w&sa=X&ved=0ahUKEwjAx-Gal_L9AhUhqJUCHU1JDN4QpwUIDw',\n",
       "  '/search?q=yahoo+finance+BTC&ie=UTF-8&tbm=nws&source=lnt&tbs=qdr:m&sa=X&ved=0ahUKEwjAx-Gal_L9AhUhqJUCHU1JDN4QpwUIEA',\n",
       "  '/search?q=yahoo+finance+BTC&ie=UTF-8&tbm=nws&source=lnt&tbs=qdr:y&sa=X&ved=0ahUKEwjAx-Gal_L9AhUhqJUCHU1JDN4QpwUIEQ',\n",
       "  '/search?q=yahoo+finance+BTC&ie=UTF-8&tbm=nws&source=lnt&tbs=ar:1&sa=X&ved=0ahUKEwjAx-Gal_L9AhUhqJUCHU1JDN4QpwUIEg',\n",
       "  '/search?q=yahoo+finance+BTC&ie=UTF-8&tbm=nws&source=lnt&tbs=sbd:1&sa=X&ved=0ahUKEwjAx-Gal_L9AhUhqJUCHU1JDN4QpwUIFA',\n",
       "  '/url?q=https://finance.yahoo.com/news/bitcoin-surged-above-28000-is-it-a-safe-haven-from-banking-152435558.html&sa=U&ved=2ahUKEwjAx-Gal_L9AhUhqJUCHU1JDN4QxfQBegQIABAC&usg=AOvVaw0bAY9D0mdS9niZNUticc--',\n",
       "  '/url?q=https://finance.yahoo.com/news/cryptoverse-bitcoin-passes-bank-stress-061405417.html&sa=U&ved=2ahUKEwjAx-Gal_L9AhUhqJUCHU1JDN4QxfQBegQICRAC&usg=AOvVaw1RUEiN_0BNDw-n8gVllhyc',\n",
       "  '/url?q=https://finance.yahoo.com/video/bitcoin-rises-above-28-000-162849856.html&sa=U&ved=2ahUKEwjAx-Gal_L9AhUhqJUCHU1JDN4QxfQBegQIAhAC&usg=AOvVaw2kUIuA-I2CqOZISdW8L3Vd',\n",
       "  '/url?q=https://finance.yahoo.com/video/lot-excitement-retail-bitcoin-youtube-150229305.html&sa=U&ved=2ahUKEwjAx-Gal_L9AhUhqJUCHU1JDN4QxfQBegQIBBAC&usg=AOvVaw087t_y8LGdv_skHQrgtL6l',\n",
       "  '/url?q=https://finance.yahoo.com/news/bitcoin-rises-above-us-28-104129552.html&sa=U&ved=2ahUKEwjAx-Gal_L9AhUhqJUCHU1JDN4QxfQBegQIBRAC&usg=AOvVaw14HvU2sDoLn-wFaCVxiq9C',\n",
       "  '/url?q=https://finance.yahoo.com/news/arks-cathie-wood-bitcoins-strength-125406925.html&sa=U&ved=2ahUKEwjAx-Gal_L9AhUhqJUCHU1JDN4QxfQBegQIBxAC&usg=AOvVaw06Kr-Z83oH48C4l8MobNMa',\n",
       "  '/url?q=https://finance.yahoo.com/news/bitcoin-buoyed-bank-busts-spook-110300787.html&sa=U&ved=2ahUKEwjAx-Gal_L9AhUhqJUCHU1JDN4QxfQBegQICBAC&usg=AOvVaw0UH5_rT5sdfnmzq4QoQ4MF',\n",
       "  '/url?q=https://finance.yahoo.com/news/bitcoin-set-extend-70-surge-044212977.html&sa=U&ved=2ahUKEwjAx-Gal_L9AhUhqJUCHU1JDN4QxfQBegQIBhAC&usg=AOvVaw2gVS9r6OcIjCC_VNdZLQU7',\n",
       "  '/url?q=https://finance.yahoo.com/news/bitcoin-moves-above-us-28-025641450.html&sa=U&ved=2ahUKEwjAx-Gal_L9AhUhqJUCHU1JDN4QxfQBegQIAxAC&usg=AOvVaw1z5NKdC9X5a3m71ra3AqM3',\n",
       "  '/url?q=https://finance.yahoo.com/news/bitcoin-ether-extend-losses-eyes-105355591.html&sa=U&ved=2ahUKEwjAx-Gal_L9AhUhqJUCHU1JDN4QxfQBegQIARAC&usg=AOvVaw2R3E3AvY1R4n0aGezOxqlc',\n",
       "  '/search?q=yahoo+finance+BTC&ie=UTF-8&tbm=nws&ei=UVccZIDbAqHQ1sQPzZKx8A0&start=10&sa=N',\n",
       "  '/url?q=https://support.google.com/websearch%3Fp%3Dws_settings_location%26hl%3Den-IN&sa=U&ved=0ahUKEwjAx-Gal_L9AhUhqJUCHU1JDN4Qty4IUw&usg=AOvVaw2S33vNLBmA-HiQ3fQku04G',\n",
       "  '/url?q=https://accounts.google.com/ServiceLogin%3Fcontinue%3Dhttps://www.google.com/search%253Fq%253Dyahoo%252Bfinance%252BBTC%2526tbm%253Dnws%26hl%3Den&sa=U&ved=0ahUKEwjAx-Gal_L9AhUhqJUCHU1JDN4Qxs8CCFQ&usg=AOvVaw1ZD4ixfTpoAUhayarAcOiV',\n",
       "  'https://www.google.com/preferences?hl=en-IN&fg=1&sa=X&ved=0ahUKEwjAx-Gal_L9AhUhqJUCHU1JDN4Q5fUCCFU',\n",
       "  'https://policies.google.com/privacy?hl=en-IN&fg=1',\n",
       "  'https://policies.google.com/terms?hl=en-IN&fg=1',\n",
       "  '/setprefs?hl=en&prev=https://www.google.com/search?q%3Dyahoo%2Bfinance%2BBTC%26tbm%3Dnws%26pccc%3D1&sig=0_-SZkpSBGdxdTVTIxdOd6Mp77lMc%3D&cs=2&sa=X&ved=0ahUKEwjAx-Gal_L9AhUhqJUCHU1JDN4QjcAJCFY']}"
      ]
     },
     "execution_count": 20,
     "metadata": {},
     "output_type": "execute_result"
    }
   ],
   "source": [
    "raw_urls = {ticker:search_for_stock_news_urls(ticker) for ticker in monitored_tickers}\n",
    "raw_urls"
   ]
  },
  {
   "cell_type": "code",
   "execution_count": 21,
   "id": "99351b22",
   "metadata": {},
   "outputs": [],
   "source": [
    "import re\n"
   ]
  },
  {
   "cell_type": "code",
   "execution_count": 22,
   "id": "aadbcdde",
   "metadata": {},
   "outputs": [],
   "source": [
    "exclude_list = ['maps','policies','preferences','accounts','support']"
   ]
  },
  {
   "cell_type": "code",
   "execution_count": 23,
   "id": "53b92c75",
   "metadata": {},
   "outputs": [],
   "source": [
    "def strip_unwanted_urls(urls,exclude_list):\n",
    "    val = []\n",
    "    for url in urls:\n",
    "        if 'https://' in url and not any(exclude_word in url for exclude_word in exclude_list):\n",
    "            res = re.findall(r'(https?://\\S+)',url)[0].split('&')[0]\n",
    "            val.append(res)\n",
    "    return list(set(val))\n",
    "        "
   ]
  },
  {
   "cell_type": "code",
   "execution_count": 24,
   "id": "932543a5",
   "metadata": {},
   "outputs": [
    {
     "data": {
      "text/plain": [
       "{'GME': ['https://finance.yahoo.com/news/gamestop-reports-fourth-quarter-fiscal-200500425.html',\n",
       "  'https://www.fastcompany.com/90869514/gamestop-gme-stock-price-going-up-profit-retail-why',\n",
       "  'https://finance.yahoo.com/news/eyes-fed-decision-key-stocks-152603931.html',\n",
       "  'https://finance.yahoo.com/news/existing-home-sales-nike-earnings-162923739.html',\n",
       "  'https://www.google.com/search?q%3Dyahoo%2Bfinance%2BGME%26tbm%3Dnws%26pccc%3D1',\n",
       "  'https://www.shacknews.com/article/134690/gamestop-gme-stock-rockets-38-higher-on-earnings-results',\n",
       "  'https://finance.yahoo.com/news/stock-market-today-dow-ends-161157972.html',\n",
       "  'https://www.msn.com/en-us/money/markets/stock-market-news-today-stock-futures-waver-as-all-eyes-on-fed-meeting/ar-AA18Wusj%3Focid%3Dweather-verthp-feeds',\n",
       "  'https://finance.yahoo.com/news/first-republic-rebounds-record-low-092753176.html',\n",
       "  'https://finance.yahoo.com/news/stocks-moving-in-after-hours-gamestop-nike-214549776.html',\n",
       "  'https://finance.yahoo.com/news/changing-face-international-student-mobility-130801717.html'],\n",
       " 'TSLA': ['https://ca.finance.yahoo.com/news/tesla-wireless-charging-platform-hands-on-well-made-and-exorbitant-123056735.html',\n",
       "  'https://finance.yahoo.com/news/analyst-downgrades-tesla-stock-after-50-pop-130116787.html',\n",
       "  'https://finance.yahoo.com/news/tesla-investor-day-three-things-to-watch-170710130.html',\n",
       "  'https://ca.finance.yahoo.com/news/tesla-debt-no-longer-junk-104743581.html',\n",
       "  'https://www.google.com/search?q%3Dyahoo%2Bfinance%2BTSLA%26tbm%3Dnws%26pccc%3D1',\n",
       "  'https://finance.yahoo.com/news/tesla-still-the-category-king-in-evs-but-beware-shrinking-margins-analyst-200721964.html',\n",
       "  'https://finance.yahoo.com/news/bears-more-double-money-short-190651776.html',\n",
       "  'https://finance.yahoo.com/news/forget-tesla-biggest-tech-opportunities-220000980.html',\n",
       "  'https://finance.yahoo.com/news/tesla-stock-down-sharply-as-investor-day-lacks-details-on-next-gen-car-164715469.html',\n",
       "  'https://finance.yahoo.com/news/investors-heavily-search-tesla-inc-130001381.html',\n",
       "  'https://finance.yahoo.com/news/tesla-scores-blue-chip-status-after-moodys-debt-upgrade-164544334.html'],\n",
       " 'BTC': ['https://finance.yahoo.com/news/arks-cathie-wood-bitcoins-strength-125406925.html',\n",
       "  'https://finance.yahoo.com/news/bitcoin-surged-above-28000-is-it-a-safe-haven-from-banking-152435558.html',\n",
       "  'https://finance.yahoo.com/news/bitcoin-moves-above-us-28-025641450.html',\n",
       "  'https://finance.yahoo.com/news/bitcoin-ether-extend-losses-eyes-105355591.html',\n",
       "  'https://finance.yahoo.com/news/cryptoverse-bitcoin-passes-bank-stress-061405417.html',\n",
       "  'https://finance.yahoo.com/video/bitcoin-rises-above-28-000-162849856.html',\n",
       "  'https://finance.yahoo.com/news/bitcoin-set-extend-70-surge-044212977.html',\n",
       "  'https://www.google.com/search?q%3Dyahoo%2Bfinance%2BBTC%26tbm%3Dnws%26pccc%3D1',\n",
       "  'https://finance.yahoo.com/video/lot-excitement-retail-bitcoin-youtube-150229305.html',\n",
       "  'https://finance.yahoo.com/news/bitcoin-buoyed-bank-busts-spook-110300787.html',\n",
       "  'https://finance.yahoo.com/news/bitcoin-rises-above-us-28-104129552.html']}"
      ]
     },
     "execution_count": 24,
     "metadata": {},
     "output_type": "execute_result"
    }
   ],
   "source": [
    "cleaned_urls = {ticker:strip_unwanted_urls(raw_urls[ticker],exclude_list) for ticker in monitored_tickers}\n",
    "cleaned_urls"
   ]
  },
  {
   "cell_type": "code",
   "execution_count": 25,
   "id": "63d73711",
   "metadata": {},
   "outputs": [],
   "source": [
    "def scrape_and_process(URLs):\n",
    "    Article = []\n",
    "    for URL in URLs:\n",
    "        r = requests.get(URL)\n",
    "        soup = BeautifulSoup(r.text, 'html.parser')\n",
    "        paragraphs = soup.find_all('p') #p is for paragraph\n",
    "        text = [paragraph.text for paragraph in paragraphs]\n",
    "        words = ' '.join(text).split(' ')[:350]\n",
    "        ARTICLE = ' '.join(words)\n",
    "        Article.append(ARTICLE)\n",
    "    return Article"
   ]
  },
  {
   "cell_type": "code",
   "execution_count": 26,
   "id": "c9fcb6ee",
   "metadata": {},
   "outputs": [
    {
     "data": {
      "text/plain": [
       "{'GME': ['GRAPEVINE, Texas, March 21, 2023--(BUSINESS WIRE)--GameStop Corp. (NYSE: GME) (\"GameStop\" or the \"Company\") today released financial results for the fourth quarter and fiscal year ended January 28, 2023. The Company’s condensed and consolidated financial statements, including GAAP and non-GAAP results, are below. The Company’s Form 10-K and supplemental information can be found at https://investor.gamestop.com/. FOURTH QUARTER OVERVIEW Net sales were $2.226 billion, compared to $2.254 billion in the prior year\\'s fourth quarter. Selling, general and administrative (\"SG&A\") expenses were $453.4 million, or 20.4% of sales, compared to $538.9 million, or 23.9% of sales, in the prior year\\'s fourth quarter. Net income was $48.2 million, compared to a net loss of $147.5 million for the prior year’s fourth quarter. Inventory was $682.9 million at the close of the period, compared to $915.0 million at the close of the prior year\\'s fourth quarter, reflecting the Company’s ongoing focus on maintaining a healthy inventory position. Cash, cash equivalents and marketable securities were $1.391 billion at the close of the quarter. Long-term debt remains limited to a low-interest, unsecured term loan associated with the French government’s response to COVID-19. FULL YEAR OVERVIEW Generated net sales of $5.927 billion for the fiscal year, compared to $6.011 billion for fiscal year 2021. Increased full-year sales in the collectibles category, which is an area in which the Company continues prioritizing long-term growth. Completed the majority of implementations and upgrades related to the Company’s infrastructure, systems, shipping capabilities, and online and mobile platforms. Initiated cost cutting initiatives and headcount reductions over the course of the year to increase operational efficiency. Established an equity incentive program for store leaders and tenured associates to increase their compensation and strengthen alignment of interests with fellow stockholders. Set a go-forward strategic direction focused on efficiency, profitability and pragmatic growth. CONFERENCE CALL INFORMATION The Company will host an investor conference call today, March 21, 2023, at 5:00 p.m. ET to review its financial results. The phone number for the investor conference call is 1-877-407-6169 and the confirmation code is 13736983. This call, along with supplemental information, can also be accessed at https://investor.gamestop.com/. A',\n",
       "  'Please enable JS and disable any ad blocker',\n",
       "  'The Federal Reserve is set to conclude its two-day policy meeting on Wednesday, with Fed Chair Jerome Powell delivering his typical post-meeting afternoon conference. But with recent banking failures roiling financial markets, will Powell stay the course and pull the trigger on another hike? U.S. stocks rose sharply during Tuesday’s session, as Treasury Secretary Janet Yellen reassured markets that backstop measures are in place to contain any contagion resulting from recent bank failures. The Nasdaq (+1.58%) resumed its streak of outperformance, as tech stocks attempt to break out of a recent range. The S&P (+1.3%) and Dow (+0.98%) also posted considerable gains, with both indexes moving back above their respective 200-day moving averages as a result. Positive seasonality (along with lower volatility) is helping boost stocks in the latter half of March. Fed Hike Odds The major indices were slightly lower in early trading Wednesday morning ahead of the Fed rate hike decision. Markets are now pricing in a roughly 88% probability of another 25-bps hike, which would lift the Fed’s key interest rate to a range of 4.75% to 5%: Image Source: CME Group Wall Street isn’t entirely ruling out a Fed pause, but concerns are rampant over an early hiatus given that inflation still remains high. Market participants will be keenly focused on Powell’s commentary during the press conference. Failures across the financial sector including Silicon Valley Bank and Signature bank have roiled global markets. But stocks have rebounded after the Fed guaranteed all uninsured deposits. Further actions to stabilize a worrisome banking sector also helped propel markets in recent days, including a deal involving the UBS purchase of troubled Credit Suisse. Markets are searching for a positive catalyst to help fuel another leg higher. Stocks are typically volatile on the day of a rate-hike decision, so there is potential for a drastic move if the Fed decides to pause. Stocks to Watch Tesla TSLA shares shot up nearly 8% during yesterday’s session, as the company received an upgrade from rating agency Moody’s to Baa3 – investment grade level, albeit the lowest tier. A positive development for Tesla.',\n",
       "  \"By Liz Moyer Investing.com -- Stocks rallied on Monday after the weekend's rescue of Credit Suisse Group (NYSE:CS) by UBS Group (NYSE:UBS) with the backing of Swiss regulators, a move that aimed to restore confidence in the financial markets. Investors are turning their attention to this week's Federal Reserve meeting and trying to figure out how influential the banking turmoil of recent weeks will be in the policymakers' decision on interest rates. Most see the Fed raising rates by a dovish quarter of a percentage point, while about a quarter of futures traders see no move at all. Investors are also worried that the Fed's moves could jolt the economy into a recession later this year. The dot-plot forecasts of the Fed's voting members will come out on Wednesday alongside the decision on rates, and investors will be studying the chart for clues about how much the Fed's thinking has changed since the last dot-plot chart. This week also brings more data on the labor market in the form of the initial jobless claims report for the prior week. Job trends have remained strong even though there is evidence price growth is slowing. Here are three things that could affect markets tomorrow: 1. Existing home sales Existing home sales for February is due out at 10:00 ET (14:00 GMT). Analysts are expecting the annual number to be 4.17 million, up slightly from the prior month, but the month-to-month increase to be 4% compared with the prior drop of 0.7%. 2. Nike earnings Athletic apparel maker Nike Inc (NYSE:NKE) is expected to report earnings per share of 55 cents on revenue of $11.47 billion. 3. GameStop results Meme stock and game retailer GameStop Corp (NYSE:GME) is expected to report a loss per share of 13 cents on revenue of $2.18B. Related Articles Existing home sales, Nike earnings, GameStop: 3 things to watch Volkswagen's Scout unit wins $1.3 billion in incentives for South Carolina factory Samsung wins jury trial in 'S10' trademark lawsuit Related Quotes\",\n",
       "  '© 2023 - Privacy - Terms',\n",
       "  \"New to Shacknews? Signup for a Free Account Already have an account? Login Now On the strength of a better-than-expected Q4 2022 earnings report, GameStop (GME) stock has shot up in after hours trading. Expectations varied heading into Tuesday's GameStop Q4 2022 earnings report, but few thought that the company would have this good a day. GameStop (GME) reported in with a high profit margin and an even larger amount of cash on hand. That has led to a rally on the stock market, where GME's stock has gone up by as much as 38 percent in after hours trading. According to Yahoo! Finance, GameStop Corp. (GME) finished Tuesday's trading at $17.65 per share. That's up 4.62 percent, but the after hours trading has the stock at $23.27 per share, as of the time of this post. That's a 31 percent increase, which comes shortly following the after hours peak increase of 38 percent. GameStop (GME) Q4 2022 earnings exceeded expectations on the strength of hardware, software, and collectibles sales. Hardware sales, specifically, accounted for $1.23 billion of the company's overall net sales. The company also finished the last quarter with $1.391 billion of cash on hand. It should be interesting to note that there was no mention of the GameStop NFT Marketplace or any of the company's crypto endeavors. Whether GameStop will continue to trend positively and whether its future direction includes the crypto marketplace remains to be seen. We expect to learn more during today's GameStop (GME) Q4 2022 earnings call, which can be viewed in the embed below.  We'll have more on GameStop (GME) over the next day and beyond. For the latest news, be sure to follow Shacknews. We'll be back with any updates. Ozzie has been playing video games since picking up his first NES controller at age 5. He has been into games ever since, only briefly stepping away during his college years. But he was pulled back in after spending years in QA circles for both THQ and Activision, mostly spending time helping to push forward the Guitar Hero series at its\",\n",
       "  'By Yasin Ebrahim Investing.com -- The Dow closed lower Wednesday after sharply cutting intraday gains as Federal Reserve chairman Jerome Powell dismissed market bets on a rate cut following the central bank’s widely expected quarter-point rate hike. The Dow Jones Industrial Average slipped 1.6% or 530 points.The Nasdaq fell 1.6%, and the S&P 500 fell 1.66%. The Federal Reserve lifted rates by 0.25% and signaled at least one more hike this year, but Fed chair Jerome Powell was quick to dismiss any rate cuts this year. “FOMC participants don\\'t see rate cuts this year, it is not our baseline expectations,\" Powell said at the press conference that followed the monetary policy decision and updated projections. Ahead of Powell’s comments, market participants were forecasting rate cuts later this year. Still, some on Wall Street suggest the tightening in credit conditions - following the wobble in the banking system - will serve the same role as monetary policy tightening and play a bigger role in the Fed\\'s future monetary policy decision. Bank of America, citing tighter lending standards, said it now only expects one more 25 basis points rate hike to lift rates to a terminal range of 5.0 to 5.25%, down 25bp from its prior target terminal range. Banks were back in the firing line, paced by a decline in First Republic Bank as investors were forced to rethink rate cuts that some believed were needed to help restore confidence in the banking system. First Republic Bank (NYSE:FRC) fell almost 16%, Comerica (NYSE:CMA) fell 8.5% and Lincoln National Corporation (NYSE:LNC) fell almost 8%. As Treasury yields moved off session lows, rate-sensitive sectors of the market including tech lost momentum. Apple Inc (NASDAQ:AAPL), Amazon.com Inc (NASDAQ:AMZN), Meta Platforms Inc (NASDAQ:META), Alphabet (NASDAQ:GOOGL), and Microsoft Corporation (NASDAQ:MSFT) ended the day below session highs. GameStop Corp (NYSE:GME), however, bucked the trend lower, racking up a 35% gain on the day after delivering a surprise fourth-quarter profit. Some on Wall Street, however, flagged low margin growth as a concern as cost cuts played a large role in helping the company return to profit. \"The company',\n",
       "  'U.S. stocks got smoked on Wednesday after the Federal Reserve raised interest rates by a quarter percentage point amid a fast-moving banking crisis and Chair Jerome Powell suggested rate cuts were not in the picture this year. AAPL STZ TSLA AMZN The S&P 500 (^GSPC), the Dow Jones Industrial Average (^DJI) and the technology-heavy Nasdaq Composite (^IXIC) all dropped by about 1.6%.\\xa0 U.S. government bond yields dipped.\\xa0The benchmark 10-year Treasury yield slid to 3.4%, while on the front end of the yield curve, two-year yields dropped 3.9%. Oil prices gained, with WTI crude up to $70 a barrel. The Federal Reserve\\'s policy-making committee, headed by Powell, took center stage Wednesday. The Federal Reserve raised its benchmark rate 0.25% to a 4.75%-5% target range, citing some additional policy firming may be appropriate. Additionally, the Fed said it would continue the same pace of reducing treasury and mortgage-backed security holdings.\\xa0 \"On net, we think the Silicon Valley Bank (SVB) episode and the fallout for the broader regional banking sector will work to slow credit, economic activity, and eventually inflation, resulting in the Fed needing to do less of the heavy lifting to tighten financial conditions,\" Tiffany Wilding, PIMCO North American Economist, wrote in a statement following Powell\\'s press conference.\\xa0 \"As a result, we believe that the Fed is likely at the end of their hiking cycle. Nevertheless, pivoting to holding policy at restrictive levels, is different than starting the process to normalize or even ease policy. Indeed, the timing and speed of any rate cutting cycle will depend on how inflation and financial stability risks evolve overtime,\" Wilding added.\\xa0 To that point, the Fed\\'s latest dot plot forecasts — which maps out policymakers\\' expectations for where interest rates expected to head in the near future — showed that rates will edge higher this year.\\xa0 In his press conference, Powell said that he didn\\'t foresee rate cuts this year, though he told Yahoo Finance\\'s Jennifer Schonberger that he believes financial conditions have tightened. Over the past several days, regulators have taken pains to emphasize the banking system is stable. On Tuesday, Treasury Secretary',\n",
       "  '(Bloomberg) -- First Republic Bank surged by a record, leading a broad-based rally in US lenders, amid discussions aimed at offering further support for the beleaguered lender. Most Read from Bloomberg Bomb Threat Called In to New York Court Where Trump Hearing Held Biden Stunts Growth in China for Chipmakers Getting US Funds SVB’s Loans to Insiders Tripled to $219 Million Before It Failed Fed Caught Between Inflation and Bank Crisis First Republic Rescue May Rely on US Backing to Reach a Deal The stock jumped 30%, bouncing off the record-low level it closed at Monday, with fellow regional lenders including Western Alliance Bancorp and PacWest Bancorp also staging double-digit moves higher. The KBW Regional Banking Index surged by 4.8% for its biggest gain since January 2021, boosted by a broad rally across the sector. First Republic extended its rally to a session high, gaining as much as 60%, following a Reuters report that the lender is looking at how it could downsize if attempts to raise new capital fail. Shares had earlier climbed on optimism over a new plan under discussion to aid First Republic. Under the plan, some or all of the $30 billion in deposits that a group of US banks injected would be converted into a capital infusion. A potential conversion “could add much needed stability and is another vote of confidence for the embroiled lender,” Bloomberg Intelligence analyst Herman Chan wrote. The rally is part of a broader recovery in the banking sector across Europe and the US, as contagion concerns ease following UBS Group AG’s rescue deal for Swiss lender Credit Suisse Group AG. Investor confidence in First Republic had waned after the lender was downgraded again Sunday by S&P Global Inc., days after the ratings firm cut the lender to junk. First Republic’s share price plunged over the past two weeks as depositors pulled back money after the failure of Silicon Valley Bank dented sentiment. The stock is still down more than 80% from the $115-level it traded at before Silicon Valley Bank’s woes. Janney Montgomery Scott analyst Timothy Coffey lowered his fair',\n",
       "  'GameStop shares soared more than 30% in after hours. The video game retailer posted a surprise fourth quarter adjusted profit of 16 cents per share. Wall Street analysts had been expecting a loss of 15 cents per share. Revenue for the company\\'s latest quarter came in at $2.226 billion, exceeding analyst estimates. Short interest in the flagship meme stock is about 21% of the float. \"This is really a momentum stock,\" Ihor Dusankiwsky, managing director at S3 Partners, told Yahoo Finance Live on Tuesday. \"We should see some big short covering tomorrow.\" Only three analysts cover the stock, with one Hold, and two Sell ratings. Nike shares rose after posting better than expected quarterly results. The sports apparel maker\\'s fiscal third quarter earnings per share came in at 79 cents, versus expectations of 54 cents. Revenue totaled $12.39 billion, versus estimates of $11.52 billion. Excess inventory had been a problem for the company in previous quarters. The trend appears to be reversing. \"We have made tremendous progress on inventory as we position Nike for sustainable and more profitable growth,\" Matthew Friend, chief financial officer of Nike said in the company\\'s earnings release. Nike\\'s direct sales increased 17% last quarter, while wholesale grew 12%. \"This is an extremely good report,\" Barclays consumer discretionary analyst Adrienne Yih told Yahoo Finance Live on Tuesday. \"They hit on all the areas where people were somewhat concerned about.\" Ines is a senior business reporter for Yahoo Finance. Follow her on Twitter at @ines_ferre Click here for the latest stock market news and in-depth analysis, including events that move stocks Read the latest financial and business news from Yahoo Finance Related Quotes',\n",
       "  'Sangeet Chowfla, the former CEO of the Graduate Management Admissions Council, reflects on the business of business education Graduate Management Education (GME) seems to be entering its third cycle and this transition, like most cyclical transitions, creates changes in supply and demand with attendant winners and losers. The first phase, Wharton, Tuck, and Harvard in the early 1900s (or ESCP a century earlier if you want to go that so far), were largely national constructs. They sought to provide a holistic education in business to the sons (women were not even admitted into HBS till the mid-1950s) of the nation’s elites. There was little diversity and limited international participation till well into the post war period. GME was largely a western product for the western world. Both demand (students) and supply (business schools of quality) were in the West. The second phase started in the ’60s and ’70s, accelerated in the 90s and took off early this century. India’s balance of payments crisis (1991) and Deng Xiaoping’s reforms in China (1992) started opening two dormant economies with enormous populations. China’s accession to the WTO (2001) contributed to a new era of globalization. The resulting economic growth in India and China, with spillover effects into other developing economies, created large middle classes with a hunger for education and the development of the next generation. Demand for education, primarily in business and engineering,\\xa0 surged faster than capacity at domestic educational establishments of quality. Two other factors contributed. One was the globalization of business and the demand within corporations for truly global managers rather than western expatriates. The second was the liberalization of immigration regimes in the West, opening a pathway that could be accessed through an advanced degree.\\xa0 There were more focused effects as well. China joining the World Trade Organization created a need for staff with an understanding of western accounting standards such as GAAP and IFRS. Suddenly there was a surge of Chinese applicants to such programs in the West. Demand became global but supply was largely in the West. Many Western business schools responded by expanding capacity and programming.'],\n",
       " 'TSLA': ['It kind of makes sense that Tesla would make wireless chargers. After all, when you think of the company, you think electric vehicles and their Superchargers (at least, after you force the image of Elon Musk out of your mind). But wireless charging is a slightly different beast that requires understanding of magnetic fields and expertise in power transfer technologies. That’s where Freepower, formerly known as Aira, comes in. Founder Jake Slatnick started the company in 2017 and told Engadget that it has spent the last five and a half years developing a “much more advanced form of Qi,” the industry-wide standard for wireless charging. As a “technology supplier” according to Slatnick, Freepower doesn’t typically make products for consumers, besides the Base Station chargers it made in collaboration with Nomad Goods. When the Pro model launched in 2019, it was considered an enticing alternative to Apple’s canceled AirPower charging mat. Both promised to deliver power to up to three devices without you having to carefully align them to the charging coils. But the Base Station series is no longer supported and had compatibility issues that affected its charging speeds. In December last year, Tesla and Freepower announced the Wireless Charging Platform, and it might be a spiritual successor to the Base Station Pro. Like many of the car maker’s other products, though, it’s almost ludicrously expensive. At $300, Tesla’s offering is twice the cost of the priciest item on our roundup of the best multi-device wireless chargers. Still, diehard fans might not mind the premium, and there are some unique characteristics here that could explain the delta (although I maintain that it’s still too much to justify). For that money, you’re at least getting what feels like a sturdy, premium product. The charging platform is a dense, solid block about 220mm (8.66inches) wide that weighs 747 grams (1.64 pounds). Together with the magnetic stand that props it up at an angle, the whole thing comes in at 1.02kg (2.26 pounds), which is pretty hefty. It’s not like you’re going to be carrying this around in your backpack so it’s not',\n",
       "  'Tesla\\'s stock is overdue for a downshift into neutral after a sizzling 54% year-to-date run, warns one Wall Street analyst. Berenberg analyst Adrian Yanoshik slashed his rating on the stock to hold from buy on Wednesday, citing mostly valuation relative to when bets on a cheaper new vehicle model and other technologies would bear fruit. \"We downgrade our rating to Hold now that our Buy thesis – based on misplaced fears of a price war – appears to have been accepted by the market,\" Yanoshik said. \"We argued that Tesla can take market share at a gross margin of c25% (excluding credits), which indeed is where we see investor expectations heading for 2024.\" Shares of the EV maker fell more than 1% in pre-market trading. The downgrade comes on the heels of a mixed week or so of news for Tesla, as Yahoo Finance\\'s Pras Subramanian reports. Tesla\\'s overhyped investor day underwhelmed the masses as it didn\\'t unveil a speculated cheaper new model. Then, the company cut prices again to stoke demand — this time on the high-end Model X and Model S. Early Wednesday morning, the National Highway Traffic Safety Administration also announced a probe into the Model Y related to a potential steering-wheel issue. To that end, Yanoshik\\'s Tesla downgrade makes a couple of key points for investors to consider: #1: Tesla\\'s Valuation Isn\\'t Cheap Tesla\\'s stock trades at a forward price-to-earnings ratio of 46 times, compared to 20 times for the S&P 500, as investors bake in above-market growth rates for the EV beast. But with interest rates headed higher and competition from Ford (F) and General Motors (GM) rising, Tesla\\'s valuation leaves little room for error operationally, Yanoshik pointed out. \"Valuation now leaves less room for disappointment,\" Yanoshik says. #2: There Is No $25,000 Tesla Yet Investors have been clamoring for a cheaper \"Model 2\" from Tesla under the $30,000 price point. Musk has teased Tesla is working on it, but acknowledges it will take time as it tries to bring down battery and other production costs further. Yanoshik thinks investors need to adjust their timeline',\n",
       "  'It’s all eyes on Tesla (TSLA) this week as the EV-maker will hold its Investor Day on Wednesday from its Gigafactory in Austin. The event will be live-streamed (and this being Tesla, timing has not been announced), though some institutional and retail investors will attend the event in person. Here are three big things to watch as the event unfolds: Tesla CEO Elon Musk recently said his long-term goal for Tesla is to produce 20 million cars a year by 2030. With the company delivering 1.31 million vehicles in 2022, it has a long way to go to achieve that goal. The ramp-ups at Giga Austin, Giga Berlin, and expansion plans at Giga Shanghai will help, but the company would need more gigafactories than that to achieve such mass scale. As of the end of 2022, Tesla projected an installed annual capacity of around 1.9 million vehicles, and Musk has speculated Tesla will need 12 gigafactories in total to produce 20 million vehicles a year. Expect to hear more about these expansion plans on Wednesday — and a possible announcement on next steps. Government officials from Mexico to Indonesia have been talking to Tesla execs about expansion plans and would love nothing more than to bring Musk’s grand vision to their shores. A key part of the Investor Day will be the company’s reveal of its “generation 3 platform.” This generation 3 platform will likely be Tesla’s cheaper, robo-taxi car, as Musk has called it, and will be key to mass volume expansion of Tesla’s cars — and EVs globally in general. An EV costing around $25,000-$30,000 will open up a wide swath of potential customers looking for a cheap EV alternative. It’s most likely impossible for Tesla to deliver 20 million vehicles annually by 2030 without a cheaper EV to reach a mass group of buyers. Expect Tesla to show investors a working design or even a full-scale model of this gen-3 platform, and to hear a bit more about the platform underpinnings and powertrain. “While recent global price cuts have driven demand, TSLA likely needs Gen 3 to',\n",
       "  'Moody\\'s upgraded its outlook for Tesla bonds Monday, tagging them as a reliable investment. It\\'s the second ratings agency to lift the EV maker out of junk territory, following S&P in October. \"Tesla will maintain its position as one of the leading manufacturers of battery electric vehicles,\" Moody\\'s said. Moody\\'s Investors Service has upgraded Tesla bonds to investment-grade status for the first time, saying the Elon Musk-run carmaker\\'s dominance of the EV market and its efforts to keep costs low have boosted its ability to repay its debts. The agency, which judges companies\\' ability to pay back bondholders, lifted the company\\'s rating by one notch Monday. It now gives Tesla a \"Baa3\" rating, meaning it\\'s no longer labeling its bonds as \"junk\" or purely speculative —the outlook used for companies that might struggle to repay their debts. \"The rating action reflects Moody\\'s expectation that Tesla will remain one of the foremost manufacturers of battery electric vehicles with an expanding global presence and very high profitability,\" Rene Lipsch, senior credit officer at Moody\\'s, said in a ratings action note. \"The upgrade also incorporates governance considerations, including Tesla\\'s prudent financial policy and management\\'s operational track record,\" he added. Moody\\'s also cited Tesla planning to start production on its Cybertruck model later this year as one factor that contributed to its upgrade. Musk has set a goal of cutting the cost of building some Tesla models by 50%. Earlier in March, the CEO said there\\'s a clear path for Tesla to make a smaller EV at half the production cost and difficulty of its popular Model 3, per The Wall Street Journal. Tesla\\'s share price closed 1.7% higher Monday, adding to a rally that has seen it rise 49% this year so far. Ratings agencies had previously shunned Tesla bonds for years, even as a long-term surge in its share price saw it become the world\\'s eight-most valuable company in terms of market capitalization. But S&P Global Ratings upgraded the EV maker\\'s bonds out of junk territory in October 2022, and now Moody\\'s has followed suit. Fitch Ratings, which is the other \"Big',\n",
       "  '© 2023 - Privacy - Terms',\n",
       "  \"Tesla (TSLA) shares have been rallying well into 2023, and it’s for all the right reasons, at least for investors who took a bath last year. “Tesla is getting the right attention — you've seen the value come back into the stock that came out primarily because of Twitter,” said Craig Irwin of Roth Capital Partners in an interview with Yahoo Finance. Yes, Twitter. Though Tesla CEO (and current Twitter CEO) Elon Musk still has his hands tied with managing his latest purchase, Tesla bulls have been reassured lately that the company is back on the right path, following huge price cuts both here and abroad that have ginned up demand considerably for the pure-play EV-maker. Tesla is still the “category king” in EVs as Irwin calls it, and the fact that its 2022 production forecast slipped to 1.4 million from a forecast 1.5 million is still pretty impressive, all things considered. Despite competition ramping up, Tesla is essentially the only automaker to achieve volume production of EVs. But Irwin, who is overall bearish on Tesla, doesn’t see the recent good times lasting that long for shareholders. “We see Tesla as a great company, but we think there's going to be some [other] real winners. There are 100 or so EV models that are supposed to hit the road this year,” Irwin said. In addition to more competition coming from the likes of Ford, GM and Kia, another big area that Irwin sees as threatening Tesla’s generous multiple is margin compression. Irwin sees it coming down by a drastic factor as the company introduces lower priced vehicles like the upcoming Gen 3 vehicle and sees more price-conscious buyers coming in due to those price cuts. “So people that are buying on price cuts are not exactly prone to option things heavily, so you're mixing towards a lower-margin crowd of buyers with an already margin direct price cut,” Irwin said. “So I think we're probably looking towards more like 1,000 basis points in margin degradation over the next couple of quarters, instead of, basically, 500, 600, 700. That's heavy pressure.” In\",\n",
       "  \"Last week, subscribers to our Vertical Options Trader service scored a net profit of 120% on our recommended Tesla Inc (NASDAQ:TSLA)\\xa0March 17, 190- and 170-strike put spread. Below, we'll unpack the reasoning for the bearish stance on the electric vehicle (EV) giant. This trade was recommended on Friday, Feb. 17. On Thursday, Feb. 16, TSLA had recently peaked just shy of its 200-day moving average, before declining 7% into the close. While retreating, the equity moved below half its all-time high and twice its Jan. 6 annual low of $101.81. We expected Tesla stock to break below support at its 10-move average near the $200 area, followed by a pullback toward the 80-day trendline near $170. Today, TSLA is inching higher, last seen up 0.2% to trade at $198.04, following yesterday's news that Moody upgraded the shares to Baa3 rating from its junk-rated credit. The analyst noted the EV maker's prudent financial policy and operational track record. Year-to-date, Tesla stock is 60.7% higher.\",\n",
       "  'The tech market has yet to bottom out, and investors should be avoiding the mega-caps at all costs, but there are emerging stars from AI and gaming to semiconductors that underpin the new tech trends–and they’re undervalued, not overvalued. Tesla (NASDAQ:TSLA) is tanking. In the past 12 months, the stock has shed nearly 30%, with Elon Musk trying to explain away the nosedive for months. The tech market is a sea of red right now, and it’s dragging Wall Street down with it. Shopify (NYSE:SHOP) has lost nearly 42% in the past year. Coinbase (NASDAQ:COIN) has tanked nearly 70% in the same time period. Even Meta (NASDAQ:META) has shed almost 20%. This is now a time of reflection, where investors should be looking deeper into the less obvious corners of the tech world, where brilliant things are being accomplished, and where valuations are still very low. There is only downside in the mega-cap tech stocks, but we see all kinds of upside in some lesser-known stocks in the AI, gaming, and semiconductor playing fields. #1 Chatbot GPT trailblazer BigBear.ai (NYSE:BBAI) Chatbot GPT is the hottest AI buzzword right now, and any software company associated with it has been surfing these tailwinds. Chatbot GPT itself is privately owned and reached some 100 million monthly active users in January–only two months after it launched. That makes it the fastest-growing consumer application in the world–in history. Microsoft has dumped billions of dollars into OpenAI’s ChatGPT, and that fact has led investors to start scrambling for any company that is working on AI tech. BigBear.ai is one of them, and it’s up over 300% year-to-date. An emerging leader in AI analytics and cyber engineering solutions, BigBear is one of the most exciting stocks in a space that has overtaken the crypto craze. This new entrant is still in the red. While it’s been growing its revenue base, with up to $170 million projected for 2022, earnings closed out Q3 last year with $16 million in net losses. But what investors are looking at is what comes next … One of the key attractions for',\n",
       "  'Tesla (TSLA) shares moved sharply lower Thursday following its Investor Day presentation the night before, at which the automaker addressed topics like CEO Elon Musk’s “Master Plan 3” and vehicle design but did not reveal a design or specifics about its “generation 3” upcoming car. “We will have a proper sort of product event, but it would be jumping the gun if we answer your questions [now],” Musk said in response to a question about the generation 3 car during a Q&A session last night. Though Musk and the Tesla team discussed AI, charging infrastructure, and supply chain improvements from Gigafactory Austin, the main disappointment was the lack of any concrete details on its next generation 3 car design, though it did reveal that two upcoming models will be joining the Tesla product portfolio, and its next gigafactory would be located in Monterey, Mexico. Tesla shares were down nearly 6% in Thursday\\'s session. “While Musk presented his ‘Master Plan Part 3’ intending to spark confidence and excitement about Tesla’s future, investors were underwhelmed … They were listening intently for more meat on the bones regarding Tesla’s concrete 2023 plans to remain competitive in an increasingly crowded and price-sensitive EV market,” said AXS Investments CEO Greg Bassuk in a note to clients. “Seven models from other automakers already are priced lower than Tesla’s Model 3 sedan, the company’s least expensive model, while even more EV automakers are racing aggressively into this space in 2023,” he said. The lack of specificity on that generation 3 car, expected to be Tesla’s cheapest offering at around $25K - $35K MSRP, is likely weighing on the stock, and on Wall Street analysts’ minds, as some are more bullish on the company long-term. \"Though Tesla\\'s plan to launch a $25K EV isn\\'t new, mass-market competitors will need their own roadmaps to profitably compete at those price-points in the coming few years,\" Citi\\'s Itay Michaeli said in a note to investors. Michaeli notes that Tesla reiterated its prior goal of reaching 20 million units by 2030, and provided \"incremental color\" on how it would achieve that goal.',\n",
       "  \"Tesla (TSLA) is one of the stocks most watched by Zacks.com visitors lately. So, it might be a good idea to review some of the factors that might affect the near-term performance of the stock. Shares of this electric car maker have returned +0.1% over the past month versus the Zacks S&P 500 composite's +0.3% change. The Zacks Automotive - Domestic industry, to which Tesla belongs, has lost 2.5% over this period. Now the key question is: Where could the stock be headed in the near term? Although media reports or rumors about a significant change in a company's business prospects usually cause its stock to trend and lead to an immediate price change, there are always certain fundamental factors that ultimately drive the buy-and-hold decision. Earnings Estimate Revisions Here at Zacks, we prioritize appraising the change in the projection of a company's future earnings over anything else. That's because we believe the present value of its future stream of earnings is what determines the fair value for its stock. Our analysis is essentially based on how sell-side analysts covering the stock are revising their earnings estimates to take the latest business trends into account. When earnings estimates for a company go up, the fair value for its stock goes up as well. And when a stock's fair value is higher than its current market price, investors tend to buy the stock, resulting in its price moving upward. Because of this, empirical studies indicate a strong correlation between trends in earnings estimate revisions and short-term stock price movements. For the current quarter, Tesla is expected to post earnings of $0.86 per share, indicating a change of -19.6% from the year-ago quarter. The Zacks Consensus Estimate has changed -0.2% over the last 30 days. The consensus earnings estimate of $3.85 for the current fiscal year indicates a year-over-year change of -5.4%. This estimate has changed -0.1% over the last 30 days. For the next fiscal year, the consensus earnings estimate of $5.10 indicates a change of +32.6% from what Tesla is expected to report a year ago. Over the past month,\",\n",
       "  \"In a huge milestone for Tesla (TSLA), the EV-maker is now a blue chip. Moody’s Investor Research upgraded the EV-maker's credit rating to Baa3, which is the first rung on its investment grade ladder for corporate debt, with Tesla's credit outlook changed to stable. Previously Moody’s classified Tesla as Ba1, which is the agency’s top rating for high yield corporate, or junk, debt. In its report, Moody’s wrote the ratings upgrade “reflects Moody's expectation that Tesla will remain one of the foremost manufacturers of battery electric vehicles with an expanding global presence and very high profitability.” Moody’s expects Tesla to deliver around 1.8 million vehicles globally in 2023, which would be a 34% increase compared to 2022, and cites its “considerable investments” in new vehicle and battery production as enabling a “steep increase” in global deliveries. Moody’s noted that the expansion of the product lineup with the Cybertruck this year is a positive step. Moody’s also said that Tesla’s heightened focus on efficiencies in its manufacturing process—and financial prudence—were factors the upgrade. Moody’s expects Tesla to maintain an industry leading EBITA margin in the mid-high teens compared to its peers. Other positives:\\xa0The rating agency also expects the company to reduce costs by 50% for its next-gen vehicle boosting profitability, which would counteract price drops for its Model 3 and Model Y high volume vehicles. Moody’s upgrade of Tesla to investment grade follows a similar move by S&P Global Ratings back in October of last year. In upgrading Tesla to “BBB,” considered an investment grade rating, S&P analysts wrote at the time, “We believe Tesla continues to demonstrate market leadership in electric vehicles (EVs), with solid manufacturing efficiency that supports strong EBITDA margins and sustained positive free operating cash flow (FOCF), albeit with high capital expenditures.” With two ratings agencies giving Tesla investment grade debt ratings, Tesla is now considered a blue chip company from a corporate debt perspective. Typically this means conservative investors like pension funds and other institutional investors will consider Tesla debt an attractive investment, and makes the borrowing pool for Tesla deeper, and cheaper. There are also\"],\n",
       " 'BTC': ['Listen to the CoinMarketRecap podcast on Apple Podcasts, Spotify and Google Podcasts Ark Invest\\'s Cathie Wood predicted that Bitcoin\\'s strength during the recent banking crisis will bring back institutional investors who have been pushed away by regulators focusing attention on the bitcoins on their balance sheets. Bitcoin is up almost 70% this year and 21% this month as small crypto-friendly banks like Silvergate and Signature were lost along with Silicon Valley Bank, and even mainstream banks like First Republic and Credit Suisse have been hit hard enough to require big rescues and in the latter\\'s case, a bargain basement buyout. Speaking to Bloomberg on March 21, Wood noted that \"one of the things that happens in a crisis is liquidity dries out so that that tends to hurt assets.\" But, she added: In a recent report, Ark recommended that institutional investors interested in digital assets should target 2.5% to 6.5% to Bitcoin, she said. \"So not crazy,\" Wood added. She said: In Ark\\'s Big Ideas 2023 report, the base case Bitcoin price prediction was $682,000 by 2030,\\xa0 while the bear case was more than $250,000 and the bull case nearly $1.5 million. Wood said the base case price, she believes, is \"quite conservative.\" Last week, Ark Invest revealed that it has raised $16 million for a new private crypto fund. Meanwhile, Wood, who has been buying swaths of Coinbase shares over the last few months, sold $13.5 million worth of COIN on March 21. That\\'s after Ark Invest bought about $30 million worth in February and another $30 million in the week of March 6. After its last buy, on March 10, Ark Invest owned 9.9 million shares of Coinbase. Wood has long been a strong supporter of Coinbase, despite its abysmal performance in 2022, when its share price declined 86%. That said, she did make some big sells last year, dumping 1.4 million in July alone, although she bought a lot later in the year. So what happened? Well, COIN is up almost 150% since the beginning of the year, closing at $83.99 on Tuesday after starting the year',\n",
       "  \"Bitcoin climbed to its highest level in nine months Monday as some investors looked to the cryptocurrency as a safe haven from the current chaos roiling the global banking system. It peaked Monday morning at $28,414 and was still roughly $28,000 at 5 pm ET. Over the past week the largest cryptocurrency has risen more than 15%, and since the beginning of January, it is up 69%. Its all-time high was $69,000 in November 2021, and its low was $15,649 in November 2022. After steep losses during the last quarter of 2022, bitcoin is far and away the best performing asset year to date, according to a research note Friday from Goldman Sachs, outpacing gold, the Nasdaq 100 and stock market favorite Tesla (TSLA). The coin is catching air in a tumultuous environment that analysts and investors increasingly say will be good for risk assets, especially after the closure of three U.S. banks, the takeover of Swiss bank Credit Suisse by its larger rival UBS and uncertainty about this week's decision from the Federal Reserve on direction of interest rates. The Fed also on Sunday said it would increase the frequency it lends USD swaps to other central banks, an indication of increased demand for dollars. “Bitcoin is rallying as Wall Street becomes more aggressive in pricing Fed rate cuts and as banking sector worries drive some into alternative investments away from traditional financing,” said Edward Moya, senior market analyst for Oanda. Bitcoin is the world's largest cryptocurrency, accounting for 47.7% of the $1.17 trillion market. The asset hasn’t represented such a high portion of total value in digital assets since June 10, 2022 according to TradingView. It is also benefitting from the view that it is the safest of the cryptocurrencies, according to Noelle Acheson, author of the Crypto Is Macro Now newsletter. Smaller cryptocurrencies face more regulatory scrutiny and governance uncertainty, she said. Some investors view bitcoin, like gold, as a good place to park money during periods of high inflation, added Sean Farrell, head of digital assets with Fundstrat. The 30-day rolling correlation between bitcoin and gold\",\n",
       "  'Bitcoin traded above the US$28,000 mark on Wednesday morning in Asia amid a rebound in\\xa0most top 10 non-stablecoin cryptocurrencies. XRP led the winners with a surge of over 20% on expectations it may win a favorable ruling in an SEC lawsuit. U.S. equities rallied into Tuesday as Treasury Secretary Janet Yellen doubled-down on commitments to backstop troubled banks. The Federal Reserve announces its interest rate decision on Wednesday, with most analysts expecting a 25 basis-point increase. See related article: Singapore to publish crypto, stablecoin consultation feedback by mid-2023 Bitcoin gained 0.52% in the past 24 hours to US$28,065 at 09:00 a.m. in Hong Kong, rising 13.22% for the week, according to CoinMarketCap data. The world’s largest cryptocurrency has surged about 70% year to date after slumping through most of last year. Cathie Wood, the founder and chief executive officer of investment management fund Ark Invest, said in a Bloomberg interview that Bitcoin’s price surge amid the bank failures in the U.S. this month point to more institutional acceptance of cryptocurrencies as a store of value. The Bitcoin Fear & Greed index, a measure of crypto market sentiment, rose to a 16-month high of 68 points on Tuesday, signaling that investors are becoming more optimistic than fearful. Ether rose 2.10% to US$1,790, adding 4.99% for the past seven days. The token breached the US$1,800 mark last Saturday for the first time since August 2022, and has been fluctuating around that resistance ceiling. XRP soared 21.87% to US$0.4618, posting a weekly gain of 23.67%. The rally came as the legal team of Ripple Labs made a new filing to Judge Analisa Torres on Tuesday to back its defense in a lawsuit filed by the U.S. Securities and Exchange Commission (SEC). The Ripple Labs payment network is powered by XRP. The total crypto market capitalization rose 1.05% in the past 24 hours to US$1.18 trillion. Total trading volume over the last 24 hours dropped 11.79% to US$67.74 billion. U.S. equities continued a run up into Tuesday as Treasury Secretary Janet Yellen said that financial authorities would intervene if smaller lenders suffer bank runs,',\n",
       "  'Bitcoin and Ether fell in Tuesday afternoon trade in Asia after rallying through the past week, while financial authorities injected cash into markets to ease liquidity pressures and took other steps to address concerns over a banking sector crisis in the U.S. and Europe. See related article: Crypto needs to look abroad as US exchanges go unbanked Bitcoin – the world’s largest cryptocurrency – lost 2.44% to US$27,575 in 24 hours to 4 p.m. in Hong Kong, according to CoinMarketCap data, and gained 13.09% on the week. Ethereum dropped 3.42% to US$1,735, after gaining 3.49% in the last seven days. Most top 10 non-stablecoin cryptos declined, with Polygon’s Matic token leading losses, declining 5.08% to US$1.10 on the day and decreasing 5.7% on the week. Dogecoin was the second-biggest loser, falling 4.9% to US$0.07134 and losing 1.48% in the last seven days. Total crypto market capitalization fell 2.85% to US$1.15 trillion, while total crypto market volume dropped 6.68% to US$70.57 billion in the last 24 hours. Most Asian equity markets gained on Tuesday after a relief rally in U.S. equities on Monday, as concerns over a larger banking sector turmoil eased after authorities took charge to oversee takeovers of Signature Bank and Credit Suisse. “Since our administration and the regulators took decisive action last weekend, we have seen deposits stabilize at regional banks throughout the country and, in some cases, outflows have modestly reversed,” White House spokesman Michael Kikukawa told Bloomberg. U.S. authorities are studying if regulators, in case of a banking sector emergency, can temporarily provide deposit insurance more than the current US$250,000 cap, according to Bloomberg. The Shanghai Composite inched up 0.64% and the Shenzhen Component Index gained 1.6%. Hong Kong’s Hang Seng Index rose 1.36%, South Korea’s Kospi increased 0.38% while Japan’s Nikkei 225 dropped 1.42%. Investors are looking forward to the U.S. Federal Reserve’s March 22 announcement on interest rates and the direction of the economy. The U.S. central bank is expected to increase interest rates by 25 basis points, lower than earlier market talk of 50 basis points before the banking crisis. European stocks extended',\n",
       "  'By Lisa Pauline Mattackal and Medha Singh (Reuters) - As crisis stalks the traditional world of stocks and bonds, bitcoin is suddenly looking like a safe haven. The infamously volatile cryptocurrency seems positively hale and hearty, just as a banking meltdown drives markets into the arms of a recession. Bitcoin has risen 21% this month, while a choppy S&P 500 has lost 1.4% and gold has gained 8%. \"If you were going to describe an environment where there were successive bank runs because central banks are trying to fight inflation with fast rate increases, that is pretty close to as spot-on a thesis for owning bitcoin as you\\'ve ever heard,\" said Stéphane Ouellette, CEO at digital asset investment platform FRNT Financial. The cryptocurrency has, for now, severed its ties with stocks and bonds and tagged on to a rally in gold, fulfilling at least one part of creator Satoshi Nakamoto\\'s dream - that bitcoin can serve as a refuge for suffering investors. Bitcoin\\'s 30-day correlation with the S&P 500 has slid to negative 0.12 over the past week, where a measure of 1 indicates the two assets are moving in lock step. A selloff in banks has wiped out hundreds of billions of dollars in market value and forced U.S. regulators to launch emergency measures. The past couple of weeks has seen Silicon Valley Bank and crypto lender Silvergate go under, while Credit Suisse has teetered on the brink. Graphic: Bitcoin refuge amid chaos https://www.reuters.com/graphics/FINTECH-CRYPTO/WEEKLY/egvbyjaakpq/chart.png \\'RETURN TO CORE ETHOS\\' Let\\'s not carried away, though. This is bitcoin. \"The bearish argument would be that these dynamics are temporary, and ultimately this rally is not going to sustain,\" said Ouellette. It remains to be seen if bitcoin\\'s bullishness will endure as attention shifts to the Federal Reserve\\'s policy meeting this week where the U.S. central bank must walk a fine line as it fights inflation and bank stresses. Furthermore, the cryptocurrency\\'s allure hasn\\'t all been about safety. The rapid price rise has forced some short-sellers to cut their bets and buy coin back. Data from Coinglass shows traders liquidated $300 million worth',\n",
       "  'Thank you for your patience. Our engineers are working quickly to resolve the issue.',\n",
       "  '(Bloomberg) -- Bitcoin is hurtling toward a quarterly gain bigger than any since the start of 2021, the year when it went on to hit a record high. Most Read from Bloomberg Bomb Threat Called In to New York Court Where Trump Hearing Held Biden Stunts Growth in China for Chipmakers Getting US Funds SVB’s Loans to Insiders Tripled to $219 Million Before It Failed Fed Caught Between Inflation and Bank Crisis First Republic Rescue May Rely on US Backing to Reach a Deal Some analysts argue the token is being viewed as a hedge against the woes in the US and European banking sectors and benefiting from expectations of looser monetary policy to cushion economies from the fallout of those troubles. “The behavior of the price through this crisis is going to attract more institutions,” Ark Investment Management’s Cathie Wood said on Bloomberg Television, referring to the unraveling of three US lenders and the emergency takeover of Credit Suisse Group AG by rival UBS Group AG. Bitcoin’s revival has helped the digital-asset market add about $390 billion in value in 2023 after a $1.5 trillion rout last year. The rebound has weathered crypto bankruptcies, a US regulatory crackdown and the temporary de-peg of a key stablecoin that’s meant to hold a constant $1 value. The rally has paused this week, leaving the token near $28,000 as traders await the latest Federal Reserve policy decision. Key charts suggest any hiatus or pullback is likely a temporary speed bump on the way to further gains. Quarter to Remember Bitcoin is up 70% since the start of 2023. A $300 billion increase in the Federal Reserve’s balance sheet last week — part of efforts to support liquidity in the US banking sector — is positive for risk assets and has aided crypto and gold, Chris Weston, head of research at Pepperstone Group Ltd., wrote in a note. Toward $35,000? Bitcoin has traced a reverse head-and-shoulders, a pattern often viewed as bullish. The technical study indicates a price objective of about $35,000. “With interest-rate markets gone from pricing in rate hikes to pricing',\n",
       "  '© 2023 - Privacy - Terms',\n",
       "  'Thank you for your patience. Our engineers are working quickly to resolve the issue.',\n",
       "  'Bitcoin: What crisis? Arbitrum: Network effects Guo Wengui: Hammer time From the Editor’s Desk Dear Reader, It’s not without a quiet sense of irony that we have been watching recent events unfold in the traditional banking sector. After a year in which the cryptocurrency industry has suffered unprecedented pain, it now seems to be TradFi’s turn, with the collapses of U.S. lenders Silvergate Bank, Silicon Valley Bank and Signature Bank to be followed by that of Credit Suisse, once a bastion of Big Finance and one of only 30 systemically important global lenders. The Swiss heavyweight’s problems triggered a worldwide banking market rout that has wiped around US$1 trillion off the value offinance sector shares in recent days. Nobody is suggesting for a moment that this makes the US$60 billion implosion of Terra or the US$8 billion hole that FTX’s crash left behind look small — and keep in mind that these sums were proportionally a much larger chunk of the crypto market than the latest share rout represents for TradFi. But it does put the 48% rise in crypto market cap over the past 14 days — particularly, perhaps, Bitcoin’s 71% gain since the beginning of the year — into perspective. So once again it has come to pass that a number of investors seem to be feeling at least as safe putting money into crypto as they do putting it into traditional banks. The crowing and “told you so” sneering by some in the TradFi space during crypto’s annus horribilis, in light of this, has the feel of rather ill-advised schadenfreude. We should emphasize that any such gloating among the crypto community would be equally ill-advised — not only given the industry’s woes of the past year but also the fact that turmoil in any part of the financial system, from Main Street banks to memecoins, heaps misery on investors large and (especially) small. Yet the irony remains. And with it persists one of the driving forces of the crypto phenomenon and the financial revolution that it has given the world. Crypto may have been down lately, but',\n",
       "  'Bitcoin continued to trade above US$28,000 on Wednesday afternoon in Asia. Ether also rose, along with all other top 10 non-stablecoin cryptocurrencies with XRP and Cardano leading gains. Asian equity markets strengthened, reflecting a relief rally in U.S. equities on Tuesday after authorities took charge to tackle a banking sector crisis. Investors are looking to the U.S. Federal Reserve’s decision on interest rates later on Wednesday. See related article: Internal Revenue Service in U.S. solicits public opinions on proposed NFT taxes Bitcoin gained 2.07% to US$28,143 in 24 hours to 4 p.m. in Hong Kong, and rose 12.58% in the last seven days, according to CoinMarketCap data. Ethereum strengthened 3.44% to US$1,794 on the day and increased 4.73% on the week. XRP gained the most in the top 10 cryptos, climbing 18.39% to US$0.4569, and rising 21.73% in the last seven days. Ripple Labs, whose payment network is powered by XRP, made a new filing on March 20 to back its case against the U.S. Securities and Exchange Commission (SEC). The SEC sued Ripple in December 2020 for allegedly selling US$1.3 billion in unregistered securities. Ripple expects a court decision in the first six months of this year. Cardano was the second-biggest gainer of the day, rising 12.74% to US$0.3755, after gaining 8.83% on the week. Total crypto market capitalization gained 2.75% to US$1.18 trillion, while total crypto market volume dropped 8.74% to US$64.48 billion in the last 24 hours. All Asian equity markets rose on Wednesday, following a Wall Street rally on Tuesday after U.S. Treasury Secretary Janet Yellen expressed confidence in the banking sector and stated that the U.S. is willing to protect smaller lenders if needed. The Shanghai Composite inched up 0.31% and the Shenzhen Component Index gained 0.61%. Hong Kong’s Hang Seng Index rose 1.73%, South Korea’s Kospi increased 1.2%, and Japan’s Nikkei 225 gained 1.93%. Investors are looking to the U.S. Federal Reserve’s interest rate decision later on Wednesday. Most analysts anticipate a 25 basis point increase while some expect the U.S. central bank to pause interest rate hikes given the banking sector turmoil in']}"
      ]
     },
     "execution_count": 26,
     "metadata": {},
     "output_type": "execute_result"
    }
   ],
   "source": [
    "articles = {ticker:scrape_and_process(cleaned_urls[ticker]) for ticker in monitored_tickers}\n",
    "articles"
   ]
  },
  {
   "cell_type": "code",
   "execution_count": 27,
   "id": "e0847304",
   "metadata": {},
   "outputs": [],
   "source": [
    "def summarize(articles):\n",
    "    summaries = []\n",
    "    for article in articles:\n",
    "        input_ids = tokenizer.encode(article, return_tensors='pt',max_length = 512,truncation=True) ##pytorch return array #tokenzier used to genarte unique token of each nummber\n",
    "        output = model.generate(input_ids, max_length=55, num_beams=5, early_stopping=True) ##num_beams return only top 5 choices, early stopping used to avoid overfiting\n",
    "        summary = tokenizer.decode(output[0], skip_special_tokens=True) \n",
    "        summaries.append(summary)\n",
    "    return summaries"
   ]
  },
  {
   "cell_type": "code",
   "execution_count": 28,
   "id": "fd590916",
   "metadata": {},
   "outputs": [
    {
     "data": {
      "text/plain": [
       "{'GME': ['Net sales were $2.226 billion for the fourth quarter of fiscal year. Selling, general and administrative expenses were $453.4 million, or 20.4% of sales',\n",
       "  '.',\n",
       "  'Markets now pricing in a roughly 88% probability of another hike. Yellen reassures markets that backstop measures are in place',\n",
       "  'Fed meeting, existing home sales, Nike earnings.',\n",
       "  'All images are copyrighted.',\n",
       "  'Company reports strong hardware sales, larger cash on hand.',\n",
       "  'Fed chair says no rate cuts seen this year. Banks tumble as tighter lending standards seen serving same role',\n",
       "  'The S&P 500, Dow Jones Industrial Average and tech-heavy Nasdaq all fell. Fed raised its benchmark rate 0.25% to a 4.75%-5% target range',\n",
       "  'KBW Regional Banking Index surges the most since January 2021. First Republic’s share price has slumped over the past two weeks amid investor concern',\n",
       "  'Nike and GameStop post better-than-expected results.',\n",
       "  'China’s accession to the WTO in 2001 contributed to a new era of globalization.'],\n",
       " 'TSLA': ['Freepower’s Wireless Charging Platform costs $300. Tesla’s offering is twice the cost of Apple’s multi-device charger',\n",
       "  'Berenberg downgrades Tesla to Hold, citing valuation. EV maker cut prices again this week to stoke demand',\n",
       "  'EV-maker is expected to reveal ‘generation 3’ platform. Elon Musk has said Tesla will need 12 gigafactories to reach 20 million vehicles a year',\n",
       "  'EV maker says efforts to keep costs low have boosted ability to repay. Tesla bonds now rated Baa3 after S&P in October 2022',\n",
       "  'All images are copyrighted.',\n",
       "  '‘There are going to be some real winners,’ says Roth Capital’s Irwin. EV-maker’s multiple is under threat from lower-margin buyers',\n",
       "  \"EV maker is inching higher following Moody's upgrade.\",\n",
       "  'Mega-cap tech stocks have yet to bottom out, but there’s still value in lesser-known stocks.',\n",
       "  '‘Investors were underwhelmed,’ says AXS Investments. Musk did not reveal design details for ‘generation 3’ car',\n",
       "  \"EV maker has returned +0.1% over the past month versus the S&P 500's +0.3% change.\",\n",
       "  'EV-maker’s credit rating upgraded to Baa3 from Ba1, outlook stable. Moody’s cites ‘considerable investments’ in new vehicle and battery production'],\n",
       " 'BTC': [\"Cathie Wood's Ark Invest has been buying and selling shares. Bitcoin is up almost 70% this year and 21% this month\",\n",
       "  '‘Bitcoin is rallying as Wall Street becomes more aggressive in pricing Fed rate cuts,’ Oanda says.',\n",
       "  'Largest cryptocurrency has surged about 70% year to date. Ripple’s lawyers make new filing in SEC lawsuit',\n",
       "  'Most Asian equity markets gain on relief rally in U.S. equities.',\n",
       "  'Coin has risen 21% this month, while a choppy S&P 500 and gold have fallen.',\n",
       "  'We are aware of the issue and are working to resolve it.',\n",
       "  'Rally has paused this week, leaving the token near $28,000. Analysts see a price objective of $35,000 in the next three months',\n",
       "  'All images are copyrighted.',\n",
       "  'We are aware of the issue and are working to resolve it.',\n",
       "  'Credit Suisse’s woes trigger worldwide rout in finance sector. Investors seem to be putting money into crypto as they do traditional banks',\n",
       "  'Bitcoin, Ether lead gains in top 10 cryptos on Wednesday. Ripple backs SEC lawsuit against SEC over unregistered securities']}"
      ]
     },
     "execution_count": 28,
     "metadata": {},
     "output_type": "execute_result"
    }
   ],
   "source": [
    "summaries = {ticker:summarize(articles[ticker]) for ticker in monitored_tickers}\n",
    "summaries"
   ]
  },
  {
   "cell_type": "markdown",
   "id": "74f70ea1",
   "metadata": {},
   "source": [
    "#### pipeline is a function in transformers \n",
    " sentiment show text emotion--- positive or negative"
   ]
  },
  {
   "cell_type": "code",
   "execution_count": 29,
   "id": "613ec0e8",
   "metadata": {},
   "outputs": [
    {
     "name": "stderr",
     "output_type": "stream",
     "text": [
      "No model was supplied, defaulted to distilbert-base-uncased-finetuned-sst-2-english and revision af0f99b (https://huggingface.co/distilbert-base-uncased-finetuned-sst-2-english).\n",
      "Using a pipeline without specifying a model name and revision in production is not recommended.\n"
     ]
    },
    {
     "data": {
      "application/vnd.jupyter.widget-view+json": {
       "model_id": "c110f31746454145b2f4310f5a937a50",
       "version_major": 2,
       "version_minor": 0
      },
      "text/plain": [
       "Downloading (…)lve/main/config.json:   0%|          | 0.00/629 [00:00<?, ?B/s]"
      ]
     },
     "metadata": {},
     "output_type": "display_data"
    },
    {
     "name": "stderr",
     "output_type": "stream",
     "text": [
      "C:\\Users\\lohch\\AppData\\Local\\Programs\\Python\\Python310\\lib\\site-packages\\huggingface_hub\\file_download.py:133: UserWarning: `huggingface_hub` cache-system uses symlinks by default to efficiently store duplicated files but your machine does not support them in C:\\Users\\lohch\\.cache\\huggingface\\hub. Caching files will still work but in a degraded version that might require more space on your disk. This warning can be disabled by setting the `HF_HUB_DISABLE_SYMLINKS_WARNING` environment variable. For more details, see https://huggingface.co/docs/huggingface_hub/how-to-cache#limitations.\n",
      "To support symlinks on Windows, you either need to activate Developer Mode or to run Python as an administrator. In order to see activate developer mode, see this article: https://docs.microsoft.com/en-us/windows/apps/get-started/enable-your-device-for-development\n",
      "  warnings.warn(message)\n"
     ]
    },
    {
     "data": {
      "application/vnd.jupyter.widget-view+json": {
       "model_id": "8cbf3bca21064f838c76d8d90120083e",
       "version_major": 2,
       "version_minor": 0
      },
      "text/plain": [
       "Downloading pytorch_model.bin:   0%|          | 0.00/268M [00:00<?, ?B/s]"
      ]
     },
     "metadata": {},
     "output_type": "display_data"
    },
    {
     "data": {
      "application/vnd.jupyter.widget-view+json": {
       "model_id": "b9f4c11dbd0942da8b4b0a59a276ca9d",
       "version_major": 2,
       "version_minor": 0
      },
      "text/plain": [
       "Downloading (…)okenizer_config.json:   0%|          | 0.00/48.0 [00:00<?, ?B/s]"
      ]
     },
     "metadata": {},
     "output_type": "display_data"
    },
    {
     "data": {
      "application/vnd.jupyter.widget-view+json": {
       "model_id": "e75de983fb70440684fdbfe6c7aac223",
       "version_major": 2,
       "version_minor": 0
      },
      "text/plain": [
       "Downloading (…)solve/main/vocab.txt:   0%|          | 0.00/232k [00:00<?, ?B/s]"
      ]
     },
     "metadata": {},
     "output_type": "display_data"
    }
   ],
   "source": [
    "from transformers import pipeline\n",
    "sentiment = pipeline(\"sentiment-analysis\")"
   ]
  },
  {
   "cell_type": "code",
   "execution_count": 30,
   "id": "dda3afd9",
   "metadata": {},
   "outputs": [
    {
     "data": {
      "text/plain": [
       "[{'label': 'POSITIVE', 'score': 0.6216397285461426},\n",
       " {'label': 'POSITIVE', 'score': 0.631275475025177},\n",
       " {'label': 'POSITIVE', 'score': 0.8255074620246887},\n",
       " {'label': 'POSITIVE', 'score': 0.8668016195297241},\n",
       " {'label': 'NEGATIVE', 'score': 0.9991037249565125},\n",
       " {'label': 'POSITIVE', 'score': 0.9979088306427002},\n",
       " {'label': 'NEGATIVE', 'score': 0.9983304142951965},\n",
       " {'label': 'NEGATIVE', 'score': 0.9880996346473694},\n",
       " {'label': 'POSITIVE', 'score': 0.9979088306427002},\n",
       " {'label': 'NEGATIVE', 'score': 0.9908422231674194},\n",
       " {'label': 'NEGATIVE', 'score': 0.9399531483650208}]"
      ]
     },
     "execution_count": 30,
     "metadata": {},
     "output_type": "execute_result"
    }
   ],
   "source": [
    "sentiment(summaries['BTC'])"
   ]
  },
  {
   "cell_type": "code",
   "execution_count": 32,
   "id": "539a07c5",
   "metadata": {},
   "outputs": [
    {
     "data": {
      "text/plain": [
       "{'GME': [{'label': 'NEGATIVE', 'score': 0.9350910186767578},\n",
       "  {'label': 'POSITIVE', 'score': 0.9668781757354736},\n",
       "  {'label': 'POSITIVE', 'score': 0.9811636805534363},\n",
       "  {'label': 'NEGATIVE', 'score': 0.5370712280273438},\n",
       "  {'label': 'NEGATIVE', 'score': 0.9880996346473694},\n",
       "  {'label': 'POSITIVE', 'score': 0.999259889125824},\n",
       "  {'label': 'NEGATIVE', 'score': 0.9963580965995789},\n",
       "  {'label': 'NEGATIVE', 'score': 0.9994004964828491},\n",
       "  {'label': 'NEGATIVE', 'score': 0.9958016276359558},\n",
       "  {'label': 'POSITIVE', 'score': 0.9948650002479553},\n",
       "  {'label': 'POSITIVE', 'score': 0.9989142417907715}],\n",
       " 'TSLA': [{'label': 'NEGATIVE', 'score': 0.9883734583854675},\n",
       "  {'label': 'NEGATIVE', 'score': 0.9978517293930054},\n",
       "  {'label': 'POSITIVE', 'score': 0.926937460899353},\n",
       "  {'label': 'NEGATIVE', 'score': 0.9019278287887573},\n",
       "  {'label': 'NEGATIVE', 'score': 0.9880996346473694},\n",
       "  {'label': 'NEGATIVE', 'score': 0.9922189712524414},\n",
       "  {'label': 'POSITIVE', 'score': 0.953042209148407},\n",
       "  {'label': 'POSITIVE', 'score': 0.9716666340827942},\n",
       "  {'label': 'NEGATIVE', 'score': 0.9991269707679749},\n",
       "  {'label': 'NEGATIVE', 'score': 0.9400587677955627},\n",
       "  {'label': 'POSITIVE', 'score': 0.9547061920166016}],\n",
       " 'BTC': [{'label': 'POSITIVE', 'score': 0.6216397285461426},\n",
       "  {'label': 'POSITIVE', 'score': 0.631275475025177},\n",
       "  {'label': 'POSITIVE', 'score': 0.8255074620246887},\n",
       "  {'label': 'POSITIVE', 'score': 0.8668016195297241},\n",
       "  {'label': 'NEGATIVE', 'score': 0.9991037249565125},\n",
       "  {'label': 'POSITIVE', 'score': 0.9979088306427002},\n",
       "  {'label': 'NEGATIVE', 'score': 0.9983304142951965},\n",
       "  {'label': 'NEGATIVE', 'score': 0.9880996346473694},\n",
       "  {'label': 'POSITIVE', 'score': 0.9979088306427002},\n",
       "  {'label': 'NEGATIVE', 'score': 0.9908422231674194},\n",
       "  {'label': 'NEGATIVE', 'score': 0.9399531483650208}]}"
      ]
     },
     "execution_count": 32,
     "metadata": {},
     "output_type": "execute_result"
    }
   ],
   "source": [
    "scores = {ticker:sentiment(summaries[ticker]) for ticker in monitored_tickers}\n",
    "scores"
   ]
  },
  {
   "cell_type": "code",
   "execution_count": 33,
   "id": "53a6ff46",
   "metadata": {},
   "outputs": [],
   "source": [
    "#megign all\n",
    "def create_output_array(summaries,scores,urls):\n",
    "    output = []\n",
    "    for ticker in monitored_tickers:\n",
    "        for counter in range(len(summaries[ticker])):\n",
    "            output_this = [\n",
    "                ticker,\n",
    "                summaries[ticker][counter],\n",
    "                scores[ticker][counter]['label'],\n",
    "                scores[ticker][counter]['score'],\n",
    "                urls[ticker][counter]\n",
    "            ]\n",
    "            output.append(output_this)\n",
    "    return output"
   ]
  },
  {
   "cell_type": "code",
   "execution_count": 35,
   "id": "17aebc78",
   "metadata": {},
   "outputs": [
    {
     "data": {
      "text/plain": [
       "[['GME',\n",
       "  'Net sales were $2.226 billion for the fourth quarter of fiscal year. Selling, general and administrative expenses were $453.4 million, or 20.4% of sales',\n",
       "  'NEGATIVE',\n",
       "  0.9350910186767578,\n",
       "  'https://finance.yahoo.com/news/gamestop-reports-fourth-quarter-fiscal-200500425.html'],\n",
       " ['GME',\n",
       "  '.',\n",
       "  'POSITIVE',\n",
       "  0.9668781757354736,\n",
       "  'https://www.fastcompany.com/90869514/gamestop-gme-stock-price-going-up-profit-retail-why'],\n",
       " ['GME',\n",
       "  'Markets now pricing in a roughly 88% probability of another hike. Yellen reassures markets that backstop measures are in place',\n",
       "  'POSITIVE',\n",
       "  0.9811636805534363,\n",
       "  'https://finance.yahoo.com/news/eyes-fed-decision-key-stocks-152603931.html'],\n",
       " ['GME',\n",
       "  'Fed meeting, existing home sales, Nike earnings.',\n",
       "  'NEGATIVE',\n",
       "  0.5370712280273438,\n",
       "  'https://finance.yahoo.com/news/existing-home-sales-nike-earnings-162923739.html'],\n",
       " ['GME',\n",
       "  'All images are copyrighted.',\n",
       "  'NEGATIVE',\n",
       "  0.9880996346473694,\n",
       "  'https://www.google.com/search?q%3Dyahoo%2Bfinance%2BGME%26tbm%3Dnws%26pccc%3D1'],\n",
       " ['GME',\n",
       "  'Company reports strong hardware sales, larger cash on hand.',\n",
       "  'POSITIVE',\n",
       "  0.999259889125824,\n",
       "  'https://www.shacknews.com/article/134690/gamestop-gme-stock-rockets-38-higher-on-earnings-results'],\n",
       " ['GME',\n",
       "  'Fed chair says no rate cuts seen this year. Banks tumble as tighter lending standards seen serving same role',\n",
       "  'NEGATIVE',\n",
       "  0.9963580965995789,\n",
       "  'https://finance.yahoo.com/news/stock-market-today-dow-ends-161157972.html'],\n",
       " ['GME',\n",
       "  'The S&P 500, Dow Jones Industrial Average and tech-heavy Nasdaq all fell. Fed raised its benchmark rate 0.25% to a 4.75%-5% target range',\n",
       "  'NEGATIVE',\n",
       "  0.9994004964828491,\n",
       "  'https://www.msn.com/en-us/money/markets/stock-market-news-today-stock-futures-waver-as-all-eyes-on-fed-meeting/ar-AA18Wusj%3Focid%3Dweather-verthp-feeds'],\n",
       " ['GME',\n",
       "  'KBW Regional Banking Index surges the most since January 2021. First Republic’s share price has slumped over the past two weeks amid investor concern',\n",
       "  'NEGATIVE',\n",
       "  0.9958016276359558,\n",
       "  'https://finance.yahoo.com/news/first-republic-rebounds-record-low-092753176.html'],\n",
       " ['GME',\n",
       "  'Nike and GameStop post better-than-expected results.',\n",
       "  'POSITIVE',\n",
       "  0.9948650002479553,\n",
       "  'https://finance.yahoo.com/news/stocks-moving-in-after-hours-gamestop-nike-214549776.html'],\n",
       " ['GME',\n",
       "  'China’s accession to the WTO in 2001 contributed to a new era of globalization.',\n",
       "  'POSITIVE',\n",
       "  0.9989142417907715,\n",
       "  'https://finance.yahoo.com/news/changing-face-international-student-mobility-130801717.html'],\n",
       " ['TSLA',\n",
       "  'Freepower’s Wireless Charging Platform costs $300. Tesla’s offering is twice the cost of Apple’s multi-device charger',\n",
       "  'NEGATIVE',\n",
       "  0.9883734583854675,\n",
       "  'https://ca.finance.yahoo.com/news/tesla-wireless-charging-platform-hands-on-well-made-and-exorbitant-123056735.html'],\n",
       " ['TSLA',\n",
       "  'Berenberg downgrades Tesla to Hold, citing valuation. EV maker cut prices again this week to stoke demand',\n",
       "  'NEGATIVE',\n",
       "  0.9978517293930054,\n",
       "  'https://finance.yahoo.com/news/analyst-downgrades-tesla-stock-after-50-pop-130116787.html'],\n",
       " ['TSLA',\n",
       "  'EV-maker is expected to reveal ‘generation 3’ platform. Elon Musk has said Tesla will need 12 gigafactories to reach 20 million vehicles a year',\n",
       "  'POSITIVE',\n",
       "  0.926937460899353,\n",
       "  'https://finance.yahoo.com/news/tesla-investor-day-three-things-to-watch-170710130.html'],\n",
       " ['TSLA',\n",
       "  'EV maker says efforts to keep costs low have boosted ability to repay. Tesla bonds now rated Baa3 after S&P in October 2022',\n",
       "  'NEGATIVE',\n",
       "  0.9019278287887573,\n",
       "  'https://ca.finance.yahoo.com/news/tesla-debt-no-longer-junk-104743581.html'],\n",
       " ['TSLA',\n",
       "  'All images are copyrighted.',\n",
       "  'NEGATIVE',\n",
       "  0.9880996346473694,\n",
       "  'https://www.google.com/search?q%3Dyahoo%2Bfinance%2BTSLA%26tbm%3Dnws%26pccc%3D1'],\n",
       " ['TSLA',\n",
       "  '‘There are going to be some real winners,’ says Roth Capital’s Irwin. EV-maker’s multiple is under threat from lower-margin buyers',\n",
       "  'NEGATIVE',\n",
       "  0.9922189712524414,\n",
       "  'https://finance.yahoo.com/news/tesla-still-the-category-king-in-evs-but-beware-shrinking-margins-analyst-200721964.html'],\n",
       " ['TSLA',\n",
       "  \"EV maker is inching higher following Moody's upgrade.\",\n",
       "  'POSITIVE',\n",
       "  0.953042209148407,\n",
       "  'https://finance.yahoo.com/news/bears-more-double-money-short-190651776.html'],\n",
       " ['TSLA',\n",
       "  'Mega-cap tech stocks have yet to bottom out, but there’s still value in lesser-known stocks.',\n",
       "  'POSITIVE',\n",
       "  0.9716666340827942,\n",
       "  'https://finance.yahoo.com/news/forget-tesla-biggest-tech-opportunities-220000980.html'],\n",
       " ['TSLA',\n",
       "  '‘Investors were underwhelmed,’ says AXS Investments. Musk did not reveal design details for ‘generation 3’ car',\n",
       "  'NEGATIVE',\n",
       "  0.9991269707679749,\n",
       "  'https://finance.yahoo.com/news/tesla-stock-down-sharply-as-investor-day-lacks-details-on-next-gen-car-164715469.html'],\n",
       " ['TSLA',\n",
       "  \"EV maker has returned +0.1% over the past month versus the S&P 500's +0.3% change.\",\n",
       "  'NEGATIVE',\n",
       "  0.9400587677955627,\n",
       "  'https://finance.yahoo.com/news/investors-heavily-search-tesla-inc-130001381.html'],\n",
       " ['TSLA',\n",
       "  'EV-maker’s credit rating upgraded to Baa3 from Ba1, outlook stable. Moody’s cites ‘considerable investments’ in new vehicle and battery production',\n",
       "  'POSITIVE',\n",
       "  0.9547061920166016,\n",
       "  'https://finance.yahoo.com/news/tesla-scores-blue-chip-status-after-moodys-debt-upgrade-164544334.html'],\n",
       " ['BTC',\n",
       "  \"Cathie Wood's Ark Invest has been buying and selling shares. Bitcoin is up almost 70% this year and 21% this month\",\n",
       "  'POSITIVE',\n",
       "  0.6216397285461426,\n",
       "  'https://finance.yahoo.com/news/arks-cathie-wood-bitcoins-strength-125406925.html'],\n",
       " ['BTC',\n",
       "  '‘Bitcoin is rallying as Wall Street becomes more aggressive in pricing Fed rate cuts,’ Oanda says.',\n",
       "  'POSITIVE',\n",
       "  0.631275475025177,\n",
       "  'https://finance.yahoo.com/news/bitcoin-surged-above-28000-is-it-a-safe-haven-from-banking-152435558.html'],\n",
       " ['BTC',\n",
       "  'Largest cryptocurrency has surged about 70% year to date. Ripple’s lawyers make new filing in SEC lawsuit',\n",
       "  'POSITIVE',\n",
       "  0.8255074620246887,\n",
       "  'https://finance.yahoo.com/news/bitcoin-moves-above-us-28-025641450.html'],\n",
       " ['BTC',\n",
       "  'Most Asian equity markets gain on relief rally in U.S. equities.',\n",
       "  'POSITIVE',\n",
       "  0.8668016195297241,\n",
       "  'https://finance.yahoo.com/news/bitcoin-ether-extend-losses-eyes-105355591.html'],\n",
       " ['BTC',\n",
       "  'Coin has risen 21% this month, while a choppy S&P 500 and gold have fallen.',\n",
       "  'NEGATIVE',\n",
       "  0.9991037249565125,\n",
       "  'https://finance.yahoo.com/news/cryptoverse-bitcoin-passes-bank-stress-061405417.html'],\n",
       " ['BTC',\n",
       "  'We are aware of the issue and are working to resolve it.',\n",
       "  'POSITIVE',\n",
       "  0.9979088306427002,\n",
       "  'https://finance.yahoo.com/video/bitcoin-rises-above-28-000-162849856.html'],\n",
       " ['BTC',\n",
       "  'Rally has paused this week, leaving the token near $28,000. Analysts see a price objective of $35,000 in the next three months',\n",
       "  'NEGATIVE',\n",
       "  0.9983304142951965,\n",
       "  'https://finance.yahoo.com/news/bitcoin-set-extend-70-surge-044212977.html'],\n",
       " ['BTC',\n",
       "  'All images are copyrighted.',\n",
       "  'NEGATIVE',\n",
       "  0.9880996346473694,\n",
       "  'https://www.google.com/search?q%3Dyahoo%2Bfinance%2BBTC%26tbm%3Dnws%26pccc%3D1'],\n",
       " ['BTC',\n",
       "  'We are aware of the issue and are working to resolve it.',\n",
       "  'POSITIVE',\n",
       "  0.9979088306427002,\n",
       "  'https://finance.yahoo.com/video/lot-excitement-retail-bitcoin-youtube-150229305.html'],\n",
       " ['BTC',\n",
       "  'Credit Suisse’s woes trigger worldwide rout in finance sector. Investors seem to be putting money into crypto as they do traditional banks',\n",
       "  'NEGATIVE',\n",
       "  0.9908422231674194,\n",
       "  'https://finance.yahoo.com/news/bitcoin-buoyed-bank-busts-spook-110300787.html'],\n",
       " ['BTC',\n",
       "  'Bitcoin, Ether lead gains in top 10 cryptos on Wednesday. Ripple backs SEC lawsuit against SEC over unregistered securities',\n",
       "  'NEGATIVE',\n",
       "  0.9399531483650208,\n",
       "  'https://finance.yahoo.com/news/bitcoin-rises-above-us-28-104129552.html']]"
      ]
     },
     "execution_count": 35,
     "metadata": {},
     "output_type": "execute_result"
    }
   ],
   "source": [
    "final_output = create_output_array(summaries, scores, cleaned_urls)\n",
    "final_output"
   ]
  },
  {
   "cell_type": "code",
   "execution_count": 36,
   "id": "ca8fd638",
   "metadata": {},
   "outputs": [
    {
     "data": {
      "text/plain": [
       "['TSLA',\n",
       " 'EV-maker’s credit rating upgraded to Baa3 from Ba1, outlook stable. Moody’s cites ‘considerable investments’ in new vehicle and battery production',\n",
       " 'POSITIVE',\n",
       " 0.9547061920166016,\n",
       " 'https://finance.yahoo.com/news/tesla-scores-blue-chip-status-after-moodys-debt-upgrade-164544334.html']"
      ]
     },
     "execution_count": 36,
     "metadata": {},
     "output_type": "execute_result"
    }
   ],
   "source": [
    "final_output[21]"
   ]
  },
  {
   "cell_type": "code",
   "execution_count": 37,
   "id": "8f596b21",
   "metadata": {},
   "outputs": [],
   "source": [
    "final_output.insert(0, ['Ticker', 'Summary', 'Label', 'Confidence', 'URL'])"
   ]
  },
  {
   "cell_type": "code",
   "execution_count": 38,
   "id": "a990465a",
   "metadata": {},
   "outputs": [],
   "source": [
    "import csv\n",
    "with open('Stock.csv', mode='w', newline='') as f:\n",
    "    csv_writer = csv.writer(f, delimiter=',', quotechar='\"', quoting=csv.QUOTE_MINIMAL) #delimiter for next column\n",
    "    csv_writer.writerows(final_output)"
   ]
  },
  {
   "cell_type": "code",
   "execution_count": null,
   "id": "80b748c7",
   "metadata": {},
   "outputs": [],
   "source": []
  }
 ],
 "metadata": {
  "kernelspec": {
   "display_name": "Python 3 (ipykernel)",
   "language": "python",
   "name": "python3"
  },
  "language_info": {
   "codemirror_mode": {
    "name": "ipython",
    "version": 3
   },
   "file_extension": ".py",
   "mimetype": "text/x-python",
   "name": "python",
   "nbconvert_exporter": "python",
   "pygments_lexer": "ipython3",
   "version": "3.10.7"
  }
 },
 "nbformat": 4,
 "nbformat_minor": 5
}
